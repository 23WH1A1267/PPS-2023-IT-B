{
  "nbformat": 4,
  "nbformat_minor": 0,
  "metadata": {
    "colab": {
      "provenance": [],
      "authorship_tag": "ABX9TyMnzFLaawxlEvsYvVt4vwdo",
      "include_colab_link": true
    },
    "kernelspec": {
      "name": "python3",
      "display_name": "Python 3"
    },
    "language_info": {
      "name": "python"
    }
  },
  "cells": [
    {
      "cell_type": "markdown",
      "metadata": {
        "id": "view-in-github",
        "colab_type": "text"
      },
      "source": [
        "<a href=\"https://colab.research.google.com/github/Sudha4884/PPS-2023-IT-B/blob/main/week_1_.ipynb\" target=\"_parent\"><img src=\"https://colab.research.google.com/assets/colab-badge.svg\" alt=\"Open In Colab\"/></a>"
      ]
    },
    {
      "cell_type": "code",
      "source": [
        "\n",
        "\n",
        "\n",
        "\n",
        "\n",
        "print(\"biodata\")\n",
        "a=input(\"enter your name:\")\n",
        "c=input(\"enter your locality:\")\n",
        "d=input(\"enter your date of birth:\")\n",
        "e=input(\"enter your age:\")\n",
        "f=input(\"enter your nation:\")"
      ],
      "metadata": {
        "colab": {
          "base_uri": "https://localhost:8080/"
        },
        "id": "opKWlQbi58-U",
        "outputId": "b12a4870-f93a-48a3-fc75-11eede58941d"
      },
      "execution_count": null,
      "outputs": [
        {
          "name": "stdout",
          "output_type": "stream",
          "text": [
            "biodata\n",
            "enter your name:Mani\n",
            "enter your locality:Hyderabad\n",
            "enter your date of birth:26-12-2005\n",
            "enter your age:18\n",
            "enter your nation:India\n"
          ]
        }
      ]
    },
    {
      "cell_type": "code",
      "source": [
        "\n",
        "\n",
        "def primenumber(MyNum):\n",
        "  n = 0\n",
        "  i = 2\n",
        "  for i in range(2,MyNum//2+1):\n",
        "    if MyNum % i == 0:\n",
        "      n = n + 1\n",
        "      break\n",
        "  if n == 0:\n",
        "    print(MyNum, end=\" \")\n",
        "\n",
        "x = 50\n",
        "print(\"Prime numbers less than\", x, \"are:\")\n",
        "for i in range(2, x+1):\n",
        "  primenumber(i)"
      ],
      "metadata": {
        "colab": {
          "base_uri": "https://localhost:8080/"
        },
        "id": "vFb3MJ7p6P5F",
        "outputId": "4b2f703a-267a-4bdd-b2a7-6f42c6b3ea91"
      },
      "execution_count": null,
      "outputs": [
        {
          "output_type": "stream",
          "name": "stdout",
          "text": [
            "Prime numbers less than 50 are:\n",
            "2 3 5 7 11 13 17 19 23 29 31 37 41 43 47 "
          ]
        }
      ]
    },
    {
      "cell_type": "code",
      "source": [
        "def find_largest_number(num1, num2, num3):\n",
        "    if num1 >= num2 and num1 >= num3:\n",
        "        return num1\n",
        "    elif num2 >= num1 and num2 >= num3:\n",
        "        return num2\n",
        "    else:\n",
        "        return num3\n",
        "\n",
        "a = 10\n",
        "b = 25\n",
        "c = 15\n",
        "largest = find_largest_number(a, b, c)\n",
        "print(\"The largest number among\", a, \",\", b, \"and\", c, \"is\", largest)\n"
      ],
      "metadata": {
        "colab": {
          "base_uri": "https://localhost:8080/"
        },
        "id": "b5qh3di76Ph8",
        "outputId": "8adb4486-f40d-4414-8364-eb2a9a191f3f"
      },
      "execution_count": null,
      "outputs": [
        {
          "output_type": "stream",
          "name": "stdout",
          "text": [
            "The largest number among 10 , 25 and 15 is 25\n"
          ]
        }
      ]
    },
    {
      "cell_type": "code",
      "source": [
        "print(\"Enter Marks Obtained in 5 Subjects: \")\n",
        "markOne = int(input())\n",
        "markTwo = int(input())\n",
        "markThree = int(input())\n",
        "markFour = int(input())\n",
        "markFive = int(input())\n",
        "\n",
        "tot = markOne+markTwo+markThree+markFour+markFive\n",
        "avg = tot/5\n",
        "\n",
        "if avg>=91 and avg<=100:\n",
        "    print(\"Your Grade is A1\")\n",
        "elif avg>=81 and avg<91:\n",
        "    print(\"Your Grade is A2\")\n",
        "elif avg>=71 and avg<81:\n",
        "    print(\"Your Grade is B1\")\n",
        "elif avg>=61 and avg<71:\n",
        "    print(\"Your Grade is B2\")\n",
        "elif avg>=51 and avg<61:\n",
        "    print(\"Your Grade is C1\")\n",
        "elif avg>=41 and avg<51:\n",
        "    print(\"Your Grade is C2\")\n",
        "elif avg>=33 and avg<41:\n",
        "    print(\"Your Grade is D\")\n",
        "elif avg>=21 and avg<33:\n",
        "    print(\"Your Grade is E1\")\n",
        "elif avg>=0 and avg<21:\n",
        "    print(\"Your Grade is E2\")\n",
        "else:\n",
        "    print(\"grades\")"
      ],
      "metadata": {
        "colab": {
          "base_uri": "https://localhost:8080/"
        },
        "id": "iq4e-yaF6-cM",
        "outputId": "4f429baa-0ee9-4242-a5f1-e90595da2d3d"
      },
      "execution_count": null,
      "outputs": [
        {
          "output_type": "stream",
          "name": "stdout",
          "text": [
            "Enter Marks Obtained in 5 Subjects: \n",
            "94\n",
            "45\n",
            "87\n",
            "81\n",
            "76\n",
            "Your Grade is B1\n"
          ]
        }
      ]
    },
    {
      "cell_type": "code",
      "source": [
        "year = int(input(\"Enter year to be checked: \"))\n",
        "\n",
        "if year % 4 == 0:\n",
        "    if year % 100 == 0:\n",
        "        if year % 400 == 0:\n",
        "            print(\"The year is a leap year!\")\n",
        "        else:\n",
        "            print(\"The year is not a leap year!\")\n",
        "    else:\n",
        "        print(\"The year is a leap year!\")\n",
        "else:\n",
        "    print(\"The year is not a leap year!\")"
      ],
      "metadata": {
        "id": "wxsfy2cG7n2N"
      },
      "execution_count": null,
      "outputs": []
    },
    {
      "cell_type": "code",
      "source": [
        "x = 10\n",
        "y = 50\n",
        "temp = x\n",
        "x = y\n",
        "y = temp\n",
        "\n",
        "print(\"Value of x:\", x)\n",
        "print(\"Value of y:\", y)"
      ],
      "metadata": {
        "colab": {
          "base_uri": "https://localhost:8080/"
        },
        "id": "mTwdnOWR8R7O",
        "outputId": "ff26ec09-c309-40e5-e267-78585b509b3f"
      },
      "execution_count": null,
      "outputs": [
        {
          "output_type": "stream",
          "name": "stdout",
          "text": [
            "Value of x: 50\n",
            "Value of y: 10\n"
          ]
        }
      ]
    },
    {
      "cell_type": "code",
      "source": [
        "x = 10\n",
        "y = 5\n",
        "x = x + y\n",
        "y = x - y\n",
        "x = x - y\n",
        "print(\"After Swapping: x =\", x, \" y =\", y,)\n"
      ],
      "metadata": {
        "colab": {
          "base_uri": "https://localhost:8080/"
        },
        "id": "vYp1I7Dj96hA",
        "outputId": "3a13bc56-d18c-405e-f470-f35dd65b84be"
      },
      "execution_count": null,
      "outputs": [
        {
          "output_type": "stream",
          "name": "stdout",
          "text": [
            "After Swapping: x = 5  y = 10\n"
          ]
        }
      ]
    },
    {
      "cell_type": "code",
      "source": [
        "from itertools import permutations\n",
        "word=input()\n",
        "per =permutations(word)\n",
        "for string in per:\n",
        "    print(string)"
      ],
      "metadata": {
        "colab": {
          "base_uri": "https://localhost:8080/"
        },
        "id": "Bw_kHUYAGeIX",
        "outputId": "5b215792-ae11-4032-fde8-7b96f58742a9"
      },
      "execution_count": null,
      "outputs": [
        {
          "output_type": "stream",
          "name": "stdout",
          "text": [
            "hii\n",
            "('h', 'i', 'i')\n",
            "('h', 'i', 'i')\n",
            "('i', 'h', 'i')\n",
            "('i', 'i', 'h')\n",
            "('i', 'h', 'i')\n",
            "('i', 'i', 'h')\n"
          ]
        }
      ]
    },
    {
      "cell_type": "code",
      "source": [
        "from scipy.spatial import distance\n",
        "p1=(2,2,2)\n",
        "p2=(1,1,1)\n",
        "dist= distance.euclidean(p1,p2)\n",
        "print(dist)"
      ],
      "metadata": {
        "colab": {
          "base_uri": "https://localhost:8080/"
        },
        "id": "qMxcHYEYIJWf",
        "outputId": "87efb5ca-586a-42e0-900b-13861110c8a3"
      },
      "execution_count": null,
      "outputs": [
        {
          "output_type": "stream",
          "name": "stdout",
          "text": [
            "1.7320508075688772\n"
          ]
        }
      ]
    },
    {
      "cell_type": "code",
      "source": [
        "# Initialize an empty list to store the numbers\n",
        "result = []\n",
        "\n",
        "# Iterate through numbers from 1500 to 2700 (inclusive)\n",
        "for num in range(1500, 2701):\n",
        "    # Check if the number is divisible by 7 and a multiple of 5\n",
        "    if num % 7 == 0 and num % 5 == 0:\n",
        "        # If true, append the number to the result list\n",
        "        result.append(num)\n",
        "\n",
        "# Print the numbers\n",
        "print(\"Numbers between 1500 and 2700 that are divisible by 7 and multiples of 5:\")\n",
        "print(result)"
      ],
      "metadata": {
        "id": "1fzcyAl_PvzJ"
      },
      "execution_count": null,
      "outputs": []
    },
    {
      "cell_type": "code",
      "source": [
        "def calculator(operator, num1, num2):\n",
        "    if operator == \"+\":\n",
        "        result = num1 + num2\n",
        "    elif operator == \"-\":\n",
        "        result = num1 - num2\n",
        "    elif operator == \"*\":\n",
        "        result = num1 * num2\n",
        "    elif operator == \"/\":\n",
        "        if num2 != 0:\n",
        "            result = num1 / num2\n",
        "        else:\n",
        "            result = \"Error: Division by zero!\"\n",
        "    else:\n",
        "        result = \"Error: Invalid operator!\"\n",
        "\n",
        "    return result\n",
        "\n",
        "# Example usage:\n",
        "operator = input(\"Enter the operator (+, -, *, /): \")\n",
        "num1 = float(input(\"Enter the first number: \"))\n",
        "num2 = float(input(\"Enter the second number: \"))\n",
        "\n",
        "result = calculator(operator, num1, num2)\n",
        "print(\"Result:\", result)"
      ],
      "metadata": {
        "id": "PX8aHSebiJOD"
      },
      "execution_count": null,
      "outputs": []
    },
    {
      "cell_type": "code",
      "source": [
        "def triangle_type(side1, side2, side3):\n",
        "    if side1 == side2 == side3:\n",
        "        return \"Equilateral\"\n",
        "    elif side1 == side2 or side1 == side3 or side2 == side3:\n",
        "        return \"Isosceles\"\n",
        "    else:\n",
        "        return \"Scalene\"\n",
        "\n",
        "def main():\n",
        "    side1 = float(input(\"Enter the length of side 1: \"))\n",
        "    side2 = float(input(\"Enter the length of side 2: \"))\n",
        "    side3 = float(input(\"Enter the length of side 3: \"))\n",
        "\n",
        "    triangle = triangle_type(side1, side2, side3)\n",
        "    print(\"The triangle is:\", triangle)\n",
        "\n",
        "if __name__ == \"__main__\":\n",
        "    main()"
      ],
      "metadata": {
        "id": "wxpqy3QniQY3"
      },
      "execution_count": null,
      "outputs": []
    },
    {
      "cell_type": "code",
      "source": [
        "def swap_with_temp(a, b):\n",
        "    temp = a\n",
        "    a = b\n",
        "    b = temp\n",
        "    return a, b\n",
        "\n",
        "# Example usage:\n",
        "num1 = 5\n",
        "num2 = 10\n",
        "print(\"Before swapping:\", num1, num2)\n",
        "num1, num2 = swap_with_temp(num1, num2)\n",
        "print(\"After swapping:\", num1, num2)"
      ],
      "metadata": {
        "id": "ajBWmJujiYHw"
      },
      "execution_count": null,
      "outputs": []
    },
    {
      "cell_type": "code",
      "source": [
        "def swap_without_temp(a, b):\n",
        "    a = a + b\n",
        "    b = a - b\n",
        "    a = a - b\n",
        "    return a, b\n",
        "\n",
        "# Example usage:\n",
        "num1 = 5\n",
        "num2 = 10\n",
        "print(\"Before swapping:\", num1, num2)\n",
        "num1, num2 = swap_without_temp(num1, num2)\n",
        "print(\"After swapping:\", num1, num2)\n"
      ],
      "metadata": {
        "id": "vV7Isex4ig-F"
      },
      "execution_count": null,
      "outputs": []
    },
    {
      "cell_type": "code",
      "source": [
        "def fizz_buzz(n):\n",
        "    for i in range(1, n + 1):\n",
        "        if i % 3 == 0 and i % 5 == 0:\n",
        "            print(\"FizzBuzz\")\n",
        "        elif i % 3 == 0:\n",
        "            print(\"Fizz\")\n",
        "        elif i % 5 == 0:\n",
        "            print(\"Buzz\")\n",
        "        else:\n",
        "            print(str(i))\n",
        "\n",
        "# Example usage:\n",
        "n = int(input(\"Enter the value of n: \"))\n",
        "fizz_buzz(n)\n"
      ],
      "metadata": {
        "id": "oczWH2G0ilYn"
      },
      "execution_count": null,
      "outputs": []
    },
    {
      "cell_type": "code",
      "source": [
        "import math\n",
        "\n",
        "def calculate_area(a, b, c):\n",
        "    # Calculate semi-perimeter\n",
        "    s = (a + b + c) / 2\n",
        "\n",
        "    # Calculate area using Heron's formula\n",
        "    area = math.sqrt(s * (s - a) * (s - b) * (s - c))\n",
        "    return area\n",
        "\n",
        "# Example usage:\n",
        "side1 = float(input(\"Enter the length of side 1: \"))\n",
        "side2 = float(input(\"Enter the length of side 2: \"))\n",
        "side3 = float(input(\"Enter the length of side 3: \"))\n",
        "\n",
        "area = calculate_area(side1, side2, side3)\n",
        "print(\"Area of the triangle:\", area)\n"
      ],
      "metadata": {
        "id": "o9JODGWLipKx"
      },
      "execution_count": null,
      "outputs": []
    },
    {
      "cell_type": "code",
      "source": [
        "import math\n",
        "\n",
        "def square_and_square_root(number):\n",
        "    square = number ** 2\n",
        "    square_root = math.sqrt(number)\n",
        "    return square, square_root\n",
        "\n",
        "# Example usage:\n",
        "number = float(input(\"Enter a number: \"))\n",
        "\n",
        "square, square_root = square_and_square_root(number)\n",
        "print(\"Square of\", number, \":\", square)\n",
        "print(\"Square root of\", number, \":\", square_root)\n"
      ],
      "metadata": {
        "id": "zRdbN0p_iy9L"
      },
      "execution_count": null,
      "outputs": []
    },
    {
      "cell_type": "code",
      "source": [
        "import math\n",
        "\n",
        "def classify_triangle(a, b, c):\n",
        "    # Calculate the squares of the side lengths\n",
        "    a_squared = a ** 2\n",
        "    b_squared = b ** 2\n",
        "    c_squared = c ** 2\n",
        "\n",
        "    # Calculate the cosine of each angle using the Law of Cosines\n",
        "    cos_a = (b_squared + c_squared - a_squared) / (2 * b * c)\n",
        "\n"
      ],
      "metadata": {
        "id": "MInLIDZSi9q6"
      },
      "execution_count": null,
      "outputs": []
    },
    {
      "cell_type": "code",
      "source": [
        "def find_greatest(num1, num2, num3):\n",
        "    if num1 >= num2 and num1 >= num3:\n",
        "        return num1\n",
        "    elif num2 >= num1 and num2 >= num3:\n",
        "        return num2\n",
        "    else:\n",
        "        return num3\n",
        "\n",
        "# Example usage:\n",
        "num1 = float(input(\"Enter the first number: \"))\n",
        "num2 = float(input(\"Enter the second number: \"))\n",
        "num3 = float(input(\"Enter the third number: \"))\n",
        "\n",
        "greatest = find_greatest(num1, num2, num3)\n",
        "print(\"The greatest number is:\", greatest)\n"
      ],
      "metadata": {
        "id": "I3Ia1k4fi-7c"
      },
      "execution_count": null,
      "outputs": []
    },
    {
      "cell_type": "code",
      "source": [
        "def is_leap_year(year):\n",
        "    if year % 4 == 0:\n",
        "        if year % 100 == 0:\n",
        "            if year % 400 == 0:\n",
        "                return True  # Divisible by 400 is a leap year\n",
        "            else:\n",
        "                return False\n",
        "        else:\n",
        "            return True  # Divisible by 4 but not by 100 is a leap year\n",
        "    else:\n",
        "        return False  # Not divisible by 4 is not a leap year\n",
        "\n",
        "# Example usage:\n",
        "year = int(input(\"Enter a year: \"))\n",
        "\n",
        "if is_leap_year(year):\n",
        "    print(year, \"is a leap year.\")\n",
        "else:\n",
        "    print(year, \"is not a leap year.\")\n"
      ],
      "metadata": {
        "id": "LZOIn7yoi4Qb"
      },
      "execution_count": null,
      "outputs": []
    },
    {
      "cell_type": "code",
      "source": [
        "import random\n",
        "\n",
        "def guess_number():\n",
        "    # Generate a random number between 1 and 9\n",
        "    secret_number = random.randint(1, 9)\n",
        "\n",
        "    # Prompt the user to guess the number\n",
        "    while True:\n",
        "        guess = int(input(\"Guess a number between 1 and 9: \"))\n",
        "\n",
        "        # Check if the guess is correct\n",
        "        if guess == secret_number:\n",
        "            print(\"Congratulations! You guessed the number\", secret_number, \"correctly!\")\n",
        "            break\n",
        "        else:\n",
        "            print(\"Wrong guess. Try again!\")\n",
        "\n",
        "# Run the game\n",
        "guess_number()\n"
      ],
      "metadata": {
        "id": "VJ-5BHDpjKjy"
      },
      "execution_count": null,
      "outputs": []
    },
    {
      "cell_type": "code",
      "source": [
        "# Using list comprehension\n",
        "squared_numbers = [x ** 2 for x in range(1, 21)]\n",
        "\n",
        "# Print the list\n",
        "print(\"List of squares of numbers between 1 and 20:\")\n",
        "print(squared_numbers)\n"
      ],
      "metadata": {
        "id": "cuNCfmwKjOmD"
      },
      "execution_count": null,
      "outputs": []
    },
    {
      "cell_type": "code",
      "source": [
        "def sum_of_digits(number):\n",
        "    # Initialize sum to 0\n",
        "    total = 0\n",
        "\n",
        "    # Iterate through each digit of the number\n",
        "    while number > 0:\n",
        "        # Extract the last digit using modulus operator\n",
        "        digit = number % 10\n",
        "        # Add the digit to the total\n",
        "        total += digit\n",
        "        # Remove the last digit from the number\n",
        "        number //= 10\n",
        "\n",
        "    return total\n",
        "\n",
        "# Example usage:\n",
        "number = int(input(\"Enter a number: \"))\n",
        "result = sum_of_digits(number)\n",
        "print(\"Sum of the digits of the number:\", result)\n"
      ],
      "metadata": {
        "id": "tjBs0U5BjUVy"
      },
      "execution_count": null,
      "outputs": []
    },
    {
      "cell_type": "code",
      "source": [
        "def is_palindrome(number):\n",
        "    # Convert the number to a string for easy comparison\n",
        "    num_str = str(number)\n",
        "\n",
        "    # Check if the string is equal to its reverse\n",
        "    return num_str == num_str[::-1]\n",
        "\n",
        "# Example usage:\n",
        "number = int(input(\"Enter a number: \"))\n",
        "\n",
        "if is_palindrome(number):\n",
        "    print(number, \"is a palindrome.\")\n",
        "else:\n",
        "    print(number, \"is not a palindrome.\")\n"
      ],
      "metadata": {
        "id": "4BwazZ8WjYLR"
      },
      "execution_count": null,
      "outputs": []
    },
    {
      "cell_type": "code",
      "source": [
        "def is_divisible(number, divisor):\n",
        "    # Check if number is divisible by divisor\n",
        "    return number % divisor == 0\n",
        "\n",
        "# Example usage:\n",
        "num1 = int(input(\"Enter the first number: \"))\n",
        "num2 = int(input(\"Enter the second number (divisor): \"))\n",
        "\n",
        "if is_divisible(num1, num2):\n",
        "    print(num1, \"is divisible by\", num2)\n",
        "else:\n",
        "    print(num1, \"is not divisible by\", num2)\n"
      ],
      "metadata": {
        "id": "Z6kEDYCojcbM"
      },
      "execution_count": null,
      "outputs": []
    },
    {
      "cell_type": "code",
      "source": [
        "def is_prime(number):\n",
        "    if number <= 1:\n",
        "        return False  # Numbers less than or equal to 1 are not prime\n",
        "\n",
        "    # Check for divisibility from 2 to the square root of the number\n",
        "    for i in range(2, int(number ** 0.5) + 1):\n",
        "        if number % i == 0:\n",
        "            return False  # If the number is divisible by any number in this range, it's not prime\n",
        "    return True  # If the number is not divisible by any number in the range, it's prime\n",
        "\n",
        "# Example usage:\n",
        "num = int(input(\"Enter a number: \"))\n",
        "\n",
        "if is_prime(num):\n",
        "    print(num, \"is a prime number.\")\n",
        "else:\n",
        "    print(num, \"is not a prime number.\")\n"
      ],
      "metadata": {
        "id": "eiBsj_nojklk"
      },
      "execution_count": null,
      "outputs": []
    },
    {
      "cell_type": "code",
      "source": [
        "def is_in_range(number, start, end):\n",
        "    return start <= number <= end\n",
        "\n",
        "# Example usage:\n",
        "number = int(input(\"Enter a number: \"))\n",
        "start_range = int(input(\"Enter the start of the range: \"))\n",
        "end_range = int(input(\"Enter the end of the range: \"))\n",
        "\n",
        "if is_in_range(number, start_range, end_range):\n",
        "    print(number, \"is in the range from\", start_range, \"to\", end_range)\n",
        "else:\n",
        "    print(number, \"is not in the range from\", start_range, \"to\", end_range)\n"
      ],
      "metadata": {
        "id": "gLT0aGgdjgBf"
      },
      "execution_count": null,
      "outputs": []
    },
    {
      "cell_type": "code",
      "source": [
        "def is_armstrong(number):\n",
        "    # Count the number of digits in the given number\n",
        "    num_digits = len(str(number))\n",
        "\n",
        "    # Calculate the sum of each digit raised to the power of the number of digits\n",
        "    total = sum(int(digit) ** num_digits for digit in str(number))\n",
        "\n",
        "    # Check if the total is equal to the original number\n",
        "    return total == number\n",
        "\n",
        "# Example usage:\n",
        "num = int(input(\"Enter a number: \"))\n",
        "\n",
        "if is_armstrong(num):\n",
        "    print(num, \"is an Armstrong number.\")\n",
        "else:\n",
        "    print(num, \"is not an Armstrong number.\")\n"
      ],
      "metadata": {
        "id": "jdYl0XtejqaB"
      },
      "execution_count": null,
      "outputs": []
    },
    {
      "cell_type": "code",
      "source": [
        "def is_amstrong(num):\n",
        "    # Convert the number to a string to determine its length\n",
        "    num_str = str(num)\n",
        "    # Calculate the number of digits in the number\n",
        "    num_digits = len(num_str)\n",
        "    # Initialize a variable to store the sum of the digits raised to the power of the number of digits\n",
        "    armstrong_sum = 0\n",
        "    # Iterate over each digit in the number\n",
        "    for digit in num_str:\n",
        "        # Add the digit raised to the power of the number of digits to the sum\n",
        "        armstrong_sum += int(digit) ** num_digits\n",
        "    # Check if the sum is equal to the original number\n",
        "    return armstrong_sum == num\n",
        "\n",
        "# Example usage:\n",
        "number = int(input(\"Enter a number: \"))\n",
        "if is_armstrong(number):\n",
        "    print(number, \"is an Armstrong number.\")\n",
        "else:\n",
        "    print(number, \"is not an Armstrong number.\")\n"
      ],
      "metadata": {
        "id": "kAHhWRhIjuvN"
      },
      "execution_count": null,
      "outputs": []
    },
    {
      "cell_type": "code",
      "source": [
        "def sum_of_divisors(number):\n",
        "    # Initialize the sum of divisors\n",
        "    divisor_sum = 0\n",
        "\n",
        "    # Iterate from 1 to number // 2 (inclusive) to find divisors\n",
        "    for i in range(1, number // 2 + 1):\n",
        "        if number % i == 0:\n",
        "            divisor_sum += i\n",
        "\n",
        "    return divisor_sum\n",
        "\n",
        "def is_perfect(number):\n",
        "    return sum_of_divisors(number) == number\n",
        "\n",
        "# Example usage:\n",
        "num = int(input(\"Enter a number: \"))\n",
        "\n",
        "if is_perfect(num):\n",
        "    print(num, \"is a perfect number.\")\n",
        "else:\n",
        "    print(num, \"is not a perfect number.\")\n"
      ],
      "metadata": {
        "id": "ZKagf2Bgj4FP"
      },
      "execution_count": null,
      "outputs": []
    },
    {
      "cell_type": "code",
      "source": [
        "def factorial(n):\n",
        "    # Base case: factorial of 0 is 1\n",
        "    if n == 0:\n",
        "        return 1\n",
        "    # Recursive case: factorial of n is n * factorial(n-1)\n",
        "    else:\n",
        "        return n * factorial(n - 1)\n",
        "\n",
        "# Example usage:\n",
        "num = int(input(\"Enter a number: \"))\n",
        "\n",
        "if num < 0:\n",
        "    print(\"Factorial is not defined for negative numbers.\")\n",
        "else:\n",
        "    print(\"Factorial of\", num, \"is:\", factorial(num))\n"
      ],
      "metadata": {
        "id": "fU4rSdlsj72K"
      },
      "execution_count": null,
      "outputs": []
    },
    {
      "cell_type": "code",
      "source": [
        "def fibonacci(n):\n",
        "    # Initialize the first two terms of the Fibonacci series\n",
        "    fib_series = [0, 1]\n",
        "\n",
        "    # Generate subsequent terms of the Fibonacci series\n",
        "    for i in range(2, n):\n",
        "        next_term = fib_series[-1] + fib_series[-2]\n",
        "        fib_series.append(next_term)\n",
        "\n",
        "    return fib_series\n",
        "\n",
        "# Example usage:\n",
        "terms = int(input(\"Enter the number of terms in the Fibonacci series: \"))\n",
        "\n",
        "if terms <= 0:\n",
        "    print(\"Please enter a positive integer.\")\n",
        "else:\n",
        "    print(\"Fibonacci series up to\", terms, \"terms:\")\n",
        "    print(fibonacci(terms))\n"
      ],
      "metadata": {
        "id": "wJ9KXlQPkCba"
      },
      "execution_count": null,
      "outputs": []
    },
    {
      "cell_type": "code",
      "source": [
        "def is_prime(num):\n",
        "    if num < 2:\n",
        "        return False\n",
        "    for i in range(2, int(num ** 0.5) + 1):\n",
        "        if num % i == 0:\n",
        "            return False\n",
        "    return True\n",
        "\n",
        "def primes_less_than_n(n):\n",
        "    prime_list = []\n",
        "    for i in range(2, n):\n",
        "        if is_prime(i):\n",
        "            prime_list.append(i)\n",
        "    return prime_list\n",
        "\n",
        "# Example usage:\n",
        "limit = int(input(\"Enter a number: \"))\n",
        "\n",
        "print(\"Prime numbers less than\", limit, \"are:\")\n",
        "print(primes_less_than_n(limit))\n"
      ],
      "metadata": {
        "id": "EY_Zl9-skGr_"
      },
      "execution_count": null,
      "outputs": []
    },
    {
      "cell_type": "code",
      "source": [
        "def find_factors(number):\n",
        "    factors = []\n",
        "    for i in range(1, number):\n",
        "        if number % i == 0:\n",
        "            factors.append(i)\n",
        "    return factors\n",
        "\n",
        "def is_perfect(number):\n",
        "    factors = find_factors(number)\n",
        "    total = sum(factors)\n",
        "    return total == number\n",
        "\n",
        "# Example usage:\n",
        "num = int(input(\"Enter a number: \"))\n",
        "\n",
        "factors = find_factors(num)\n",
        "print(\"Factors of\", num, \"are:\", factors)\n",
        "\n",
        "if is_perfect(num):\n",
        "    print(num, \"is a perfect number.\")\n",
        "else:\n",
        "    print(num, \"is not a perfect number.\")\n"
      ],
      "metadata": {
        "id": "TkbPSnkMkK_V"
      },
      "execution_count": null,
      "outputs": []
    },
    {
      "cell_type": "code",
      "source": [],
      "metadata": {
        "id": "ehrwme5BkPbi"
      },
      "execution_count": null,
      "outputs": []
    }
  ]
}