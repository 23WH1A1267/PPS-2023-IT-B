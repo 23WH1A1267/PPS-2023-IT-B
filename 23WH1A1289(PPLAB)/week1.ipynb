{
  "cells": [
    {
      "cell_type": "code",
      "execution_count": 2,
      "metadata": {
        "colab": {
          "base_uri": "https://localhost:8080/"
        },
        "id": "bNFQCReo42o7",
        "outputId": "514ff8c4-64fb-4ab2-ee31-22b3e273e8bd"
      },
      "outputs": [
        {
          "output_type": "stream",
          "name": "stdout",
          "text": [
            "Enter your nameMecon\n",
            "Enter your age5\n",
            "Your study pleaseStandard 8\n",
            "Your biodata:\n",
            "Iam Mecon\n",
            "5\n",
            "Iam pursuing my degree in Standard 8\n"
          ]
        }
      ],
      "source": [
        "name = input(\"Enter your name\")\n",
        "age = int(input(\"Enter your age\"))\n",
        "study = input(\"Your study please\")\n",
        "print(\"Your biodata:\")\n",
        "print(\"Iam \" + name)\n",
        "print(age)\n",
        "print(\"Iam pursuing my degree in \" + study)"
      ]
    },
    {
      "cell_type": "code",
      "execution_count": 3,
      "metadata": {
        "id": "fGpUprwPAiDO",
        "colab": {
          "base_uri": "https://localhost:8080/"
        },
        "outputId": "dd5d2537-0bf5-4eda-91c6-0dc9811ff21d"
      },
      "outputs": [
        {
          "output_type": "stream",
          "name": "stdout",
          "text": [
            "1500 is a multiple 5\n",
            "1505 is divisible by 7\n",
            "1505 is a multiple 5\n",
            "1510 is a multiple 5\n",
            "1512 is divisible by 7\n",
            "1515 is a multiple 5\n",
            "1519 is divisible by 7\n",
            "1520 is a multiple 5\n",
            "1525 is a multiple 5\n",
            "1526 is divisible by 7\n",
            "1530 is a multiple 5\n",
            "1533 is divisible by 7\n",
            "1535 is a multiple 5\n",
            "1540 is divisible by 7\n",
            "1540 is a multiple 5\n",
            "1545 is a multiple 5\n",
            "1547 is divisible by 7\n",
            "1550 is a multiple 5\n",
            "1554 is divisible by 7\n",
            "1555 is a multiple 5\n",
            "1560 is a multiple 5\n",
            "1561 is divisible by 7\n",
            "1565 is a multiple 5\n",
            "1568 is divisible by 7\n",
            "1570 is a multiple 5\n",
            "1575 is divisible by 7\n",
            "1575 is a multiple 5\n",
            "1580 is a multiple 5\n",
            "1582 is divisible by 7\n",
            "1585 is a multiple 5\n",
            "1589 is divisible by 7\n",
            "1590 is a multiple 5\n",
            "1595 is a multiple 5\n",
            "1596 is divisible by 7\n",
            "1600 is a multiple 5\n",
            "1603 is divisible by 7\n",
            "1605 is a multiple 5\n",
            "1610 is divisible by 7\n",
            "1610 is a multiple 5\n",
            "1615 is a multiple 5\n",
            "1617 is divisible by 7\n",
            "1620 is a multiple 5\n",
            "1624 is divisible by 7\n",
            "1625 is a multiple 5\n",
            "1630 is a multiple 5\n",
            "1631 is divisible by 7\n",
            "1635 is a multiple 5\n",
            "1638 is divisible by 7\n",
            "1640 is a multiple 5\n",
            "1645 is divisible by 7\n",
            "1645 is a multiple 5\n",
            "1650 is a multiple 5\n",
            "1652 is divisible by 7\n",
            "1655 is a multiple 5\n",
            "1659 is divisible by 7\n",
            "1660 is a multiple 5\n",
            "1665 is a multiple 5\n",
            "1666 is divisible by 7\n",
            "1670 is a multiple 5\n",
            "1673 is divisible by 7\n",
            "1675 is a multiple 5\n",
            "1680 is divisible by 7\n",
            "1680 is a multiple 5\n",
            "1685 is a multiple 5\n",
            "1687 is divisible by 7\n",
            "1690 is a multiple 5\n",
            "1694 is divisible by 7\n",
            "1695 is a multiple 5\n",
            "1700 is a multiple 5\n",
            "1701 is divisible by 7\n",
            "1705 is a multiple 5\n",
            "1708 is divisible by 7\n",
            "1710 is a multiple 5\n",
            "1715 is divisible by 7\n",
            "1715 is a multiple 5\n",
            "1720 is a multiple 5\n",
            "1722 is divisible by 7\n",
            "1725 is a multiple 5\n",
            "1729 is divisible by 7\n",
            "1730 is a multiple 5\n",
            "1735 is a multiple 5\n",
            "1736 is divisible by 7\n",
            "1740 is a multiple 5\n",
            "1743 is divisible by 7\n",
            "1745 is a multiple 5\n",
            "1750 is divisible by 7\n",
            "1750 is a multiple 5\n",
            "1755 is a multiple 5\n",
            "1757 is divisible by 7\n",
            "1760 is a multiple 5\n",
            "1764 is divisible by 7\n",
            "1765 is a multiple 5\n",
            "1770 is a multiple 5\n",
            "1771 is divisible by 7\n",
            "1775 is a multiple 5\n",
            "1778 is divisible by 7\n",
            "1780 is a multiple 5\n",
            "1785 is divisible by 7\n",
            "1785 is a multiple 5\n",
            "1790 is a multiple 5\n",
            "1792 is divisible by 7\n",
            "1795 is a multiple 5\n",
            "1799 is divisible by 7\n",
            "1800 is a multiple 5\n",
            "1805 is a multiple 5\n",
            "1806 is divisible by 7\n",
            "1810 is a multiple 5\n",
            "1813 is divisible by 7\n",
            "1815 is a multiple 5\n",
            "1820 is divisible by 7\n",
            "1820 is a multiple 5\n",
            "1825 is a multiple 5\n",
            "1827 is divisible by 7\n",
            "1830 is a multiple 5\n",
            "1834 is divisible by 7\n",
            "1835 is a multiple 5\n",
            "1840 is a multiple 5\n",
            "1841 is divisible by 7\n",
            "1845 is a multiple 5\n",
            "1848 is divisible by 7\n",
            "1850 is a multiple 5\n",
            "1855 is divisible by 7\n",
            "1855 is a multiple 5\n",
            "1860 is a multiple 5\n",
            "1862 is divisible by 7\n",
            "1865 is a multiple 5\n",
            "1869 is divisible by 7\n",
            "1870 is a multiple 5\n",
            "1875 is a multiple 5\n",
            "1876 is divisible by 7\n",
            "1880 is a multiple 5\n",
            "1883 is divisible by 7\n",
            "1885 is a multiple 5\n",
            "1890 is divisible by 7\n",
            "1890 is a multiple 5\n",
            "1895 is a multiple 5\n",
            "1897 is divisible by 7\n",
            "1900 is a multiple 5\n",
            "1904 is divisible by 7\n",
            "1905 is a multiple 5\n",
            "1910 is a multiple 5\n",
            "1911 is divisible by 7\n",
            "1915 is a multiple 5\n",
            "1918 is divisible by 7\n",
            "1920 is a multiple 5\n",
            "1925 is divisible by 7\n",
            "1925 is a multiple 5\n",
            "1930 is a multiple 5\n",
            "1932 is divisible by 7\n",
            "1935 is a multiple 5\n",
            "1939 is divisible by 7\n",
            "1940 is a multiple 5\n",
            "1945 is a multiple 5\n",
            "1946 is divisible by 7\n",
            "1950 is a multiple 5\n",
            "1953 is divisible by 7\n",
            "1955 is a multiple 5\n",
            "1960 is divisible by 7\n",
            "1960 is a multiple 5\n",
            "1965 is a multiple 5\n",
            "1967 is divisible by 7\n",
            "1970 is a multiple 5\n",
            "1974 is divisible by 7\n",
            "1975 is a multiple 5\n",
            "1980 is a multiple 5\n",
            "1981 is divisible by 7\n",
            "1985 is a multiple 5\n",
            "1988 is divisible by 7\n",
            "1990 is a multiple 5\n",
            "1995 is divisible by 7\n",
            "1995 is a multiple 5\n",
            "2000 is a multiple 5\n",
            "2002 is divisible by 7\n",
            "2005 is a multiple 5\n",
            "2009 is divisible by 7\n",
            "2010 is a multiple 5\n",
            "2015 is a multiple 5\n",
            "2016 is divisible by 7\n",
            "2020 is a multiple 5\n",
            "2023 is divisible by 7\n",
            "2025 is a multiple 5\n",
            "2030 is divisible by 7\n",
            "2030 is a multiple 5\n",
            "2035 is a multiple 5\n",
            "2037 is divisible by 7\n",
            "2040 is a multiple 5\n",
            "2044 is divisible by 7\n",
            "2045 is a multiple 5\n",
            "2050 is a multiple 5\n",
            "2051 is divisible by 7\n",
            "2055 is a multiple 5\n",
            "2058 is divisible by 7\n",
            "2060 is a multiple 5\n",
            "2065 is divisible by 7\n",
            "2065 is a multiple 5\n",
            "2070 is a multiple 5\n",
            "2072 is divisible by 7\n",
            "2075 is a multiple 5\n",
            "2079 is divisible by 7\n",
            "2080 is a multiple 5\n",
            "2085 is a multiple 5\n",
            "2086 is divisible by 7\n",
            "2090 is a multiple 5\n",
            "2093 is divisible by 7\n",
            "2095 is a multiple 5\n",
            "2100 is divisible by 7\n",
            "2100 is a multiple 5\n",
            "2105 is a multiple 5\n",
            "2107 is divisible by 7\n",
            "2110 is a multiple 5\n",
            "2114 is divisible by 7\n",
            "2115 is a multiple 5\n",
            "2120 is a multiple 5\n",
            "2121 is divisible by 7\n",
            "2125 is a multiple 5\n",
            "2128 is divisible by 7\n",
            "2130 is a multiple 5\n",
            "2135 is divisible by 7\n",
            "2135 is a multiple 5\n",
            "2140 is a multiple 5\n",
            "2142 is divisible by 7\n",
            "2145 is a multiple 5\n",
            "2149 is divisible by 7\n",
            "2150 is a multiple 5\n",
            "2155 is a multiple 5\n",
            "2156 is divisible by 7\n",
            "2160 is a multiple 5\n",
            "2163 is divisible by 7\n",
            "2165 is a multiple 5\n",
            "2170 is divisible by 7\n",
            "2170 is a multiple 5\n",
            "2175 is a multiple 5\n",
            "2177 is divisible by 7\n",
            "2180 is a multiple 5\n",
            "2184 is divisible by 7\n",
            "2185 is a multiple 5\n",
            "2190 is a multiple 5\n",
            "2191 is divisible by 7\n",
            "2195 is a multiple 5\n",
            "2198 is divisible by 7\n",
            "2200 is a multiple 5\n",
            "2205 is divisible by 7\n",
            "2205 is a multiple 5\n",
            "2210 is a multiple 5\n",
            "2212 is divisible by 7\n",
            "2215 is a multiple 5\n",
            "2219 is divisible by 7\n",
            "2220 is a multiple 5\n",
            "2225 is a multiple 5\n",
            "2226 is divisible by 7\n",
            "2230 is a multiple 5\n",
            "2233 is divisible by 7\n",
            "2235 is a multiple 5\n",
            "2240 is divisible by 7\n",
            "2240 is a multiple 5\n",
            "2245 is a multiple 5\n",
            "2247 is divisible by 7\n",
            "2250 is a multiple 5\n",
            "2254 is divisible by 7\n",
            "2255 is a multiple 5\n",
            "2260 is a multiple 5\n",
            "2261 is divisible by 7\n",
            "2265 is a multiple 5\n",
            "2268 is divisible by 7\n",
            "2270 is a multiple 5\n",
            "2275 is divisible by 7\n",
            "2275 is a multiple 5\n",
            "2280 is a multiple 5\n",
            "2282 is divisible by 7\n",
            "2285 is a multiple 5\n",
            "2289 is divisible by 7\n",
            "2290 is a multiple 5\n",
            "2295 is a multiple 5\n",
            "2296 is divisible by 7\n",
            "2300 is a multiple 5\n",
            "2303 is divisible by 7\n",
            "2305 is a multiple 5\n",
            "2310 is divisible by 7\n",
            "2310 is a multiple 5\n",
            "2315 is a multiple 5\n",
            "2317 is divisible by 7\n",
            "2320 is a multiple 5\n",
            "2324 is divisible by 7\n",
            "2325 is a multiple 5\n",
            "2330 is a multiple 5\n",
            "2331 is divisible by 7\n",
            "2335 is a multiple 5\n",
            "2338 is divisible by 7\n",
            "2340 is a multiple 5\n",
            "2345 is divisible by 7\n",
            "2345 is a multiple 5\n",
            "2350 is a multiple 5\n",
            "2352 is divisible by 7\n",
            "2355 is a multiple 5\n",
            "2359 is divisible by 7\n",
            "2360 is a multiple 5\n",
            "2365 is a multiple 5\n",
            "2366 is divisible by 7\n",
            "2370 is a multiple 5\n",
            "2373 is divisible by 7\n",
            "2375 is a multiple 5\n",
            "2380 is divisible by 7\n",
            "2380 is a multiple 5\n",
            "2385 is a multiple 5\n",
            "2387 is divisible by 7\n",
            "2390 is a multiple 5\n",
            "2394 is divisible by 7\n",
            "2395 is a multiple 5\n",
            "2400 is a multiple 5\n",
            "2401 is divisible by 7\n",
            "2405 is a multiple 5\n",
            "2408 is divisible by 7\n",
            "2410 is a multiple 5\n",
            "2415 is divisible by 7\n",
            "2415 is a multiple 5\n",
            "2420 is a multiple 5\n",
            "2422 is divisible by 7\n",
            "2425 is a multiple 5\n",
            "2429 is divisible by 7\n",
            "2430 is a multiple 5\n",
            "2435 is a multiple 5\n",
            "2436 is divisible by 7\n",
            "2440 is a multiple 5\n",
            "2443 is divisible by 7\n",
            "2445 is a multiple 5\n",
            "2450 is divisible by 7\n",
            "2450 is a multiple 5\n",
            "2455 is a multiple 5\n",
            "2457 is divisible by 7\n",
            "2460 is a multiple 5\n",
            "2464 is divisible by 7\n",
            "2465 is a multiple 5\n",
            "2470 is a multiple 5\n",
            "2471 is divisible by 7\n",
            "2475 is a multiple 5\n",
            "2478 is divisible by 7\n",
            "2480 is a multiple 5\n",
            "2485 is divisible by 7\n",
            "2485 is a multiple 5\n",
            "2490 is a multiple 5\n",
            "2492 is divisible by 7\n",
            "2495 is a multiple 5\n",
            "2499 is divisible by 7\n",
            "2500 is a multiple 5\n",
            "2505 is a multiple 5\n",
            "2506 is divisible by 7\n",
            "2510 is a multiple 5\n",
            "2513 is divisible by 7\n",
            "2515 is a multiple 5\n",
            "2520 is divisible by 7\n",
            "2520 is a multiple 5\n",
            "2525 is a multiple 5\n",
            "2527 is divisible by 7\n",
            "2530 is a multiple 5\n",
            "2534 is divisible by 7\n",
            "2535 is a multiple 5\n",
            "2540 is a multiple 5\n",
            "2541 is divisible by 7\n",
            "2545 is a multiple 5\n",
            "2548 is divisible by 7\n",
            "2550 is a multiple 5\n",
            "2555 is divisible by 7\n",
            "2555 is a multiple 5\n",
            "2560 is a multiple 5\n",
            "2562 is divisible by 7\n",
            "2565 is a multiple 5\n",
            "2569 is divisible by 7\n",
            "2570 is a multiple 5\n",
            "2575 is a multiple 5\n",
            "2576 is divisible by 7\n",
            "2580 is a multiple 5\n",
            "2583 is divisible by 7\n",
            "2585 is a multiple 5\n",
            "2590 is divisible by 7\n",
            "2590 is a multiple 5\n",
            "2595 is a multiple 5\n",
            "2597 is divisible by 7\n",
            "2600 is a multiple 5\n",
            "2604 is divisible by 7\n",
            "2605 is a multiple 5\n",
            "2610 is a multiple 5\n",
            "2611 is divisible by 7\n",
            "2615 is a multiple 5\n",
            "2618 is divisible by 7\n",
            "2620 is a multiple 5\n",
            "2625 is divisible by 7\n",
            "2625 is a multiple 5\n",
            "2630 is a multiple 5\n",
            "2632 is divisible by 7\n",
            "2635 is a multiple 5\n",
            "2639 is divisible by 7\n",
            "2640 is a multiple 5\n",
            "2645 is a multiple 5\n",
            "2646 is divisible by 7\n",
            "2650 is a multiple 5\n",
            "2653 is divisible by 7\n",
            "2655 is a multiple 5\n",
            "2660 is divisible by 7\n",
            "2660 is a multiple 5\n",
            "2665 is a multiple 5\n",
            "2667 is divisible by 7\n",
            "2670 is a multiple 5\n",
            "2674 is divisible by 7\n",
            "2675 is a multiple 5\n",
            "2680 is a multiple 5\n",
            "2681 is divisible by 7\n",
            "2685 is a multiple 5\n",
            "2688 is divisible by 7\n",
            "2690 is a multiple 5\n",
            "2695 is divisible by 7\n",
            "2695 is a multiple 5\n"
          ]
        }
      ],
      "source": [
        "for num in range(1500,2700):\n",
        "    if(num%7 == 0):\n",
        "        print(num,\"is divisible by 7\")\n",
        "    if(num%5 == 0):\n",
        "        print(num,\"is a multiple 5\")\n",
        "\n"
      ]
    },
    {
      "cell_type": "code",
      "source": [
        "num1 = int(input())\n",
        "num2 = int(input())\n",
        "num3 = int(input())\n",
        "num4 = int(input())\n",
        "num5 = int(input())\n",
        "print(\"Total marks are \", num1 + num2 + num3 + num4 + num5)\n",
        "print(\"Average of the total mark is \",(num1+num2+num3+num4+num5)/5)"
      ],
      "metadata": {
        "colab": {
          "base_uri": "https://localhost:8080/"
        },
        "id": "F0p3_BaZ8KDV",
        "outputId": "2f5dad11-eba1-41b6-8c18-f1774bd2c7dd"
      },
      "execution_count": 5,
      "outputs": [
        {
          "output_type": "stream",
          "name": "stdout",
          "text": [
            "78\n",
            "77\n",
            "98\n",
            "87\n",
            "90\n",
            "Total marks are  430\n",
            "Average of the total mark is  86.0\n"
          ]
        }
      ]
    },
    {
      "cell_type": "code",
      "execution_count": 6,
      "metadata": {
        "colab": {
          "base_uri": "https://localhost:8080/"
        },
        "id": "zP_sK7GCAGEO",
        "outputId": "11c3e8e6-deaf-409e-9d2d-32c45c50ce56"
      },
      "outputs": [
        {
          "output_type": "stream",
          "name": "stdout",
          "text": [
            "78\n",
            "2\n",
            "//\n",
            "39\n"
          ]
        }
      ],
      "source": [
        "num_1 = int(input())\n",
        "num_2 = int(input())\n",
        "operator = input()\n",
        "# addition, subtraction, division and multiplication are similar to math\n",
        "if operator == '+':\n",
        "    result = num_1+num_2\n",
        "elif operator == '-':\n",
        "    result = num_1-num_2\n",
        "elif operator == '*':\n",
        "    result = num_1*num_2\n",
        "if operator == '//':\n",
        "    result = num_1 // num_2\n",
        "if operator == '%':\n",
        "    result = num_1 % num_2\n",
        "if operator == '**':\n",
        "    result = num_1 ** num_2\n",
        "print(result)"
      ]
    },
    {
      "cell_type": "code",
      "source": [
        "#Taking the input for three sides\n",
        "side1 = float(input())\n",
        "side2 = float(input())\n",
        "side3 = float(input())\n",
        "if(side1==side2 and side2==side3):\n",
        "    print(\"Equilateral Triangle\")\n",
        "elif(side1==side2 or side2==side3 or side1==side3 ):\n",
        "    print(\"Isoceles Triangle\")\n",
        "else:\n",
        "    print(\"Scalene Triangle\")"
      ],
      "metadata": {
        "colab": {
          "base_uri": "https://localhost:8080/"
        },
        "id": "vCsOllfm9gvj",
        "outputId": "95ae6bb5-34e0-44ef-b92f-e646d32acff8"
      },
      "execution_count": 7,
      "outputs": [
        {
          "output_type": "stream",
          "name": "stdout",
          "text": [
            "6\n",
            "3\n",
            "2\n",
            "Scalene Triangle\n"
          ]
        }
      ]
    },
    {
      "cell_type": "code",
      "source": [
        "def swap(num1,num2):\n",
        "    num_1 = num1\n",
        "    num1 = (num1+num2)-num1\n",
        "    num2 = (num_1+num2)-num2\n",
        "    return num1,num2\n",
        "\n",
        "def swaptemp(a,b):\n",
        "    temp = b\n",
        "    b = a\n",
        "    a = temp\n",
        "    return a,b\n",
        "\n",
        "print(swaptemp(22,55))\n",
        "print(swap(34,87))\n",
        "\n"
      ],
      "metadata": {
        "colab": {
          "base_uri": "https://localhost:8080/"
        },
        "id": "VfoMtTAS8eSN",
        "outputId": "ffa180e6-03f6-462e-a211-226f8350a53c"
      },
      "execution_count": 8,
      "outputs": [
        {
          "output_type": "stream",
          "name": "stdout",
          "text": [
            "(55, 22)\n",
            "(87, 34)\n"
          ]
        }
      ]
    },
    {
      "cell_type": "code",
      "source": [
        "number = int(input())\n",
        "for i in range(1,number+1):\n",
        "    if(i%3==0 and i%5==0):\n",
        "        print(\"FizzBuzz\")\n",
        "    elif(i%3==0):\n",
        "        print(\"Fizz\")\n",
        "    elif(i%5==0):\n",
        "        print(\"Buzz\")\n",
        "    else:\n",
        "        print(i)\n",
        "\n"
      ],
      "metadata": {
        "colab": {
          "base_uri": "https://localhost:8080/"
        },
        "id": "TdA2yoXJ-dpX",
        "outputId": "abe1d2f4-65f7-4fc0-c43a-70c5ad6c52e6"
      },
      "execution_count": 9,
      "outputs": [
        {
          "output_type": "stream",
          "name": "stdout",
          "text": [
            "9\n",
            "1\n",
            "2\n",
            "Fizz\n",
            "4\n",
            "Buzz\n",
            "Fizz\n",
            "7\n",
            "8\n",
            "Fizz\n"
          ]
        }
      ]
    },
    {
      "cell_type": "code",
      "source": [
        "a = int(input())\n",
        "b = int(input())\n",
        "c = int(input())\n",
        "s = (a+b+c)/2\n",
        "area = (s*(s-a)*(s-b)*(s-c))**0.5\n",
        "print(area,\"units\")\n"
      ],
      "metadata": {
        "colab": {
          "base_uri": "https://localhost:8080/"
        },
        "id": "0kjtIO4I8TAL",
        "outputId": "65ef7903-bcc3-4a48-ee9b-42e7346c13a5"
      },
      "execution_count": 10,
      "outputs": [
        {
          "output_type": "stream",
          "name": "stdout",
          "text": [
            "5\n",
            "3\n",
            "4\n",
            "6.0 units\n"
          ]
        }
      ]
    },
    {
      "cell_type": "code",
      "source": [
        "def sqrt_power(number):\n",
        "    if number < 0:\n",
        "        return \"Square root is not defined for negative numbers\"\n",
        "    else:\n",
        "        return number ** 0.5\n",
        "\n",
        "number = float(input(\"Enter a number: \"))\n",
        "print(\"Square root using power of 0.5:\", sqrt_power(number))"
      ],
      "metadata": {
        "colab": {
          "base_uri": "https://localhost:8080/"
        },
        "id": "fVduFxtgO5Ne",
        "outputId": "9626ff47-886b-4a90-f38e-ea11f3cbc965"
      },
      "execution_count": 11,
      "outputs": [
        {
          "output_type": "stream",
          "name": "stdout",
          "text": [
            "Enter a number: 625\n",
            "Square root using power of 0.5: 25.0\n"
          ]
        }
      ]
    },
    {
      "cell_type": "code",
      "source": [
        "def triangle_type(a, b, c):\n",
        "    # Sort the sides in ascending order\n",
        "    sides = [a, b, c]\n",
        "    sides.sort()\n",
        "\n",
        "    # Check if the triangle is valid\n",
        "    if sides[0] + sides[1] <= sides[2]:\n",
        "        return \"Invalid Triangle\"\n",
        "\n",
        "    # Determine the type of triangle based on the Pythagorean theorem\n",
        "    if sides[2] ** 2 < sides[0] ** 2 + sides[1] ** 2:\n",
        "        return \"Acute Triangle\"\n",
        "    elif sides[2] ** 2 == sides[0] ** 2 + sides[1] ** 2:\n",
        "        return \"Right-Angled Triangle\"\n",
        "    else:\n",
        "        return \"Obtuse Triangle\"\n",
        "\n",
        "# Take input from the user for the lengths of the sides\n",
        "a = float(input(\"Enter the length of side a: \"))\n",
        "b = float(input(\"Enter the length of side b: \"))\n",
        "c = float(input(\"Enter the length of side c: \"))\n",
        "\n",
        "# Determine the type of triangle and print the result\n",
        "print(\"The triangle is\", triangle_type(a, b, c))\n",
        "\n",
        "\n"
      ],
      "metadata": {
        "id": "n238Tyap-2xt",
        "colab": {
          "base_uri": "https://localhost:8080/"
        },
        "outputId": "09c74d56-825e-4350-d540-cdc0583846c2"
      },
      "execution_count": 12,
      "outputs": [
        {
          "output_type": "stream",
          "name": "stdout",
          "text": [
            "Enter the length of side a: 4\n",
            "Enter the length of side b: 8\n",
            "Enter the length of side c: 3\n",
            "The triangle is Invalid Triangle\n"
          ]
        }
      ]
    },
    {
      "cell_type": "code",
      "source": [
        "number1 = int(input())\n",
        "number2 = int(input())\n",
        "number3 = int(input())\n",
        "if(number1>number2 and number1>number3):\n",
        "    print(\"GREATEST among the threee is \",number1)\n",
        "elif(number2>number1 and number2>number3):\n",
        "    print(\"GREATEST among the threee is \",number2)\n",
        "elif(number3>number1 and number3>number2):\n",
        "    print(\"GREATEST among the threee is \",number3)\n",
        "else:\n",
        "    print(\"All three are equal\")"
      ],
      "metadata": {
        "colab": {
          "base_uri": "https://localhost:8080/"
        },
        "id": "Qw0r_ekMAl6B",
        "outputId": "2186b49f-0407-4900-9661-65c49d874b93"
      },
      "execution_count": 15,
      "outputs": [
        {
          "output_type": "stream",
          "name": "stdout",
          "text": [
            "89\n",
            "44\n",
            "56\n",
            "GREATEST among the threee is  89\n"
          ]
        }
      ]
    },
    {
      "cell_type": "code",
      "source": [
        "def calculate_grade(marks):\n",
        "    if marks >= 90:\n",
        "        return 'A'\n",
        "    elif marks >= 80:\n",
        "        return 'B'\n",
        "    elif marks >= 70:\n",
        "        return 'C'\n",
        "    elif marks >= 60:\n",
        "        return 'D'\n",
        "    else:\n",
        "        return 'F'\n",
        "\n",
        "\n",
        "marks = float(input(\"Enter the marks (0-100): \"))\n",
        "if 0 <= marks <= 100:\n",
        "    grade = calculate_grade(marks)\n",
        "else:\n",
        "    print(\"Marks should be between 0 and 100. Please try again.\")\n",
        "print(f\"The grade for {marks} marks is: {grade}\")\n",
        "\n",
        "\n"
      ],
      "metadata": {
        "colab": {
          "base_uri": "https://localhost:8080/"
        },
        "id": "Qsbyk4xr_cyn",
        "outputId": "2f2eeb2a-47b5-4071-beeb-a2c77ab58a1d"
      },
      "execution_count": 16,
      "outputs": [
        {
          "output_type": "stream",
          "name": "stdout",
          "text": [
            "Enter the marks (0-100): 89\n",
            "The grade for 89.0 marks is: B\n"
          ]
        }
      ]
    },
    {
      "cell_type": "code",
      "source": [
        "year = int(input(\"Enter a year: \"))\n",
        "\n",
        "if year % 4 == 0:\n",
        "    if year % 100 == 0 and year % 400 == 0:\n",
        "        print(\"Leap and also a centurion year\")\n",
        "    else:\n",
        "        print(\"Leap year but not a centurion year\")\n",
        "else:\n",
        "    print(\"Not a leap year\")\n"
      ],
      "metadata": {
        "colab": {
          "base_uri": "https://localhost:8080/"
        },
        "id": "rjUitzr8Bqfb",
        "outputId": "87943b90-a8a5-46b6-9f19-711213bbb3ef"
      },
      "execution_count": null,
      "outputs": [
        {
          "output_type": "stream",
          "name": "stdout",
          "text": [
            "Enter a year: 2016\n",
            "Leap year but not a centurion year\n"
          ]
        }
      ]
    },
    {
      "cell_type": "code",
      "source": [
        "import random\n",
        "\n",
        "target_number = random.randint(1, 9)  # Generates a random integer between 1 and 9\n",
        "while True:\n",
        "    guess = int(input(\"Enter a number you guess: \"))\n",
        "    if guess == target_number:\n",
        "        print(\"Well guessed!\")\n",
        "        break\n",
        "    else:\n",
        "        print(\"Try again\")\n"
      ],
      "metadata": {
        "colab": {
          "base_uri": "https://localhost:8080/"
        },
        "id": "TG2jhejhCjVc",
        "outputId": "761d5665-0476-4554-b254-e64fa4a2e466"
      },
      "execution_count": 25,
      "outputs": [
        {
          "output_type": "stream",
          "name": "stdout",
          "text": [
            "Enter a number you guess: 5\n",
            "Well guessed!\n"
          ]
        },
        {
          "output_type": "execute_result",
          "data": {
            "text/plain": [
              "3"
            ]
          },
          "metadata": {},
          "execution_count": 25
        }
      ]
    },
    {
      "cell_type": "code",
      "source": [
        "list1 = [i for i in range(1, 21)]\n",
        "list2 = [i**2 for i in range(1, 21)]\n",
        "\n",
        "print(list1)\n",
        "print(list2)\n"
      ],
      "metadata": {
        "colab": {
          "base_uri": "https://localhost:8080/"
        },
        "id": "zav_hBmyDMnZ",
        "outputId": "81e8ddd2-8d0f-446e-af63-42eb08bcc330"
      },
      "execution_count": 26,
      "outputs": [
        {
          "output_type": "stream",
          "name": "stdout",
          "text": [
            "[1, 2, 3, 4, 5, 6, 7, 8, 9, 10, 11, 12, 13, 14, 15, 16, 17, 18, 19, 20]\n",
            "[1, 4, 9, 16, 25, 36, 49, 64, 81, 100, 121, 144, 169, 196, 225, 256, 289, 324, 361, 400]\n"
          ]
        }
      ]
    },
    {
      "cell_type": "code",
      "source": [
        "number = int(input())\n",
        "i=1\n",
        "while(i<=number):\n",
        "    j=1\n",
        "    while(j<=i):\n",
        "        print(\"*\",end=\" \")\n",
        "        j += 1\n",
        "    print()\n",
        "    i += 1"
      ],
      "metadata": {
        "colab": {
          "base_uri": "https://localhost:8080/"
        },
        "id": "z8JROZePECPX",
        "outputId": "a4c2b6cf-5b2f-4c38-b9b9-1a53eaafff4a"
      },
      "execution_count": 27,
      "outputs": [
        {
          "output_type": "stream",
          "name": "stdout",
          "text": [
            "4\n",
            "* \n",
            "* * \n",
            "* * * \n",
            "* * * * \n"
          ]
        }
      ]
    },
    {
      "cell_type": "code",
      "source": [
        "def sum_digits(num):\n",
        "    sum = 0\n",
        "    while  num!=0:\n",
        "        digit = num%10\n",
        "        sum += digit\n",
        "        num = num//10\n",
        "    return sum\n",
        "input_num = int(input())\n",
        "sum_digits(input_num)"
      ],
      "metadata": {
        "colab": {
          "base_uri": "https://localhost:8080/"
        },
        "id": "qcl57MCSDgQi",
        "outputId": "d0abc31c-6824-4637-fc7f-73bf11410f45"
      },
      "execution_count": 28,
      "outputs": [
        {
          "name": "stdout",
          "output_type": "stream",
          "text": [
            "246\n"
          ]
        },
        {
          "output_type": "execute_result",
          "data": {
            "text/plain": [
              "12"
            ]
          },
          "metadata": {},
          "execution_count": 28
        }
      ]
    },
    {
      "cell_type": "code",
      "source": [
        "#Check for the palindrome of a number\n",
        "number = int(input())\n",
        "reverse = 0\n",
        "t = number\n",
        "while(t>0):\n",
        "    remainder = t % 10\n",
        "    reverse = reverse * 10 + remainder\n",
        "    t = t // 10\n",
        "\n",
        "if(reverse==number):\n",
        "    print(\"PALINDROME NUMBER\")\n",
        "else:\n",
        "    print(\"Not a PALINDROME NUMBER\")"
      ],
      "metadata": {
        "id": "594pL6jDFp0r",
        "colab": {
          "base_uri": "https://localhost:8080/"
        },
        "outputId": "822db8d8-500e-466f-a40f-14400829f939"
      },
      "execution_count": 29,
      "outputs": [
        {
          "output_type": "stream",
          "name": "stdout",
          "text": [
            "789987\n",
            "PALINDROME NUMBER\n"
          ]
        }
      ]
    },
    {
      "cell_type": "code",
      "source": [
        "def isboolean(num1,num2):\n",
        "    if num1%num2==0 or  num2%num1==0:\n",
        "        return True\n",
        "    else:\n",
        "        return False\n",
        "isboolean(16,3)"
      ],
      "metadata": {
        "colab": {
          "base_uri": "https://localhost:8080/"
        },
        "id": "MPHk3UFoD7Ei",
        "outputId": "86e657ec-f21d-4adb-9816-919d8ee627ea"
      },
      "execution_count": 30,
      "outputs": [
        {
          "output_type": "execute_result",
          "data": {
            "text/plain": [
              "False"
            ]
          },
          "metadata": {},
          "execution_count": 30
        }
      ]
    },
    {
      "cell_type": "code",
      "source": [
        "#To check for a prime number\n",
        "number = int(input())\n",
        "count = 0\n",
        "for i in range(1,number+1):\n",
        "    if(number%i==0):\n",
        "        count = count + 1\n",
        "if(count==2):\n",
        "    print(\"PRIME number\")"
      ],
      "metadata": {
        "colab": {
          "base_uri": "https://localhost:8080/"
        },
        "id": "oKeoTol5EvQL",
        "outputId": "67458588-21ea-4ae6-d88e-67d429ca7b83"
      },
      "execution_count": 31,
      "outputs": [
        {
          "output_type": "stream",
          "name": "stdout",
          "text": [
            "3\n",
            "PRIME number\n"
          ]
        }
      ]
    },
    {
      "cell_type": "code",
      "source": [
        "def check(input_num):\n",
        "    low_lim = int(input(\"Enter the lower limit: \"))\n",
        "    up_lim = int(input(\"Enter the upper limit: \"))\n",
        "    for i in range(low_lim, up_lim):\n",
        "        if input_num == i:\n",
        "            return True\n",
        "    return False\n",
        "\n",
        "print(check(6))\n"
      ],
      "metadata": {
        "colab": {
          "base_uri": "https://localhost:8080/"
        },
        "id": "Z90R1f-2EZ3m",
        "outputId": "e4a15d96-0a66-48ba-8f21-e5e605984254"
      },
      "execution_count": 32,
      "outputs": [
        {
          "output_type": "stream",
          "name": "stdout",
          "text": [
            "Enter the lower limit: 1\n",
            "Enter the upper limit: 12\n",
            "True\n"
          ]
        }
      ]
    },
    {
      "cell_type": "code",
      "source": [
        "def Armstrong():\n",
        "    number = int(input(\"Enter a number\"))\n",
        "    armstrong = 0\n",
        "    t = number\n",
        "    while(t>0):\n",
        "        remainder = t % 10\n",
        "        armstrong = remainder * remainder * remainder + armstrong\n",
        "        t = t // 10\n",
        "    if(number == armstrong):\n",
        "        print(\"It is an Armstrong number\")\n",
        "Armstrong()"
      ],
      "metadata": {
        "colab": {
          "base_uri": "https://localhost:8080/"
        },
        "id": "L0_U0o6DFXVK",
        "outputId": "d36b2343-63af-4908-fb3e-77fb6766f499"
      },
      "execution_count": 33,
      "outputs": [
        {
          "output_type": "stream",
          "name": "stdout",
          "text": [
            "Enter a number153\n",
            "It is an Armstrong number\n"
          ]
        }
      ]
    },
    {
      "cell_type": "code",
      "source": [
        "def is_perfect_number(num):\n",
        "    or_num = num\n",
        "    divisor_sum = 0\n",
        "    for i in range(1,num):\n",
        "        if  num%i == 0:\n",
        "            divisor_sum += i\n",
        "            print(\"factor:\",i)\n",
        "    return divisor_sum == or_num\n",
        "\n",
        "\n",
        "num = int(input(\"Enter a number to check if it's perfect: \"))\n",
        "if num <= 0:\n",
        "    print(\"Please enter a positive integer.\")\n",
        "if is_perfect_number(num):\n",
        "    print(f\"{num} is a perfect number.\")\n",
        "else:\n",
        "    print(f\"{num} is not a perfect number.\")\n",
        "\n"
      ],
      "metadata": {
        "id": "usscBXphGJyR",
        "colab": {
          "base_uri": "https://localhost:8080/"
        },
        "outputId": "ae624ce7-78d6-4390-aacb-418cf455e46d"
      },
      "execution_count": 34,
      "outputs": [
        {
          "output_type": "stream",
          "name": "stdout",
          "text": [
            "Enter a number to check if it's perfect: 145\n",
            "factor: 1\n",
            "factor: 5\n",
            "factor: 29\n",
            "145 is not a perfect number.\n"
          ]
        }
      ]
    },
    {
      "cell_type": "code",
      "source": [
        "#Factorial of a given number\n",
        "number = int(input())\n",
        "factorial = 1\n",
        "for i in range(1,number+1):\n",
        "    factorial = factorial * i\n",
        "print(factorial)"
      ],
      "metadata": {
        "colab": {
          "base_uri": "https://localhost:8080/"
        },
        "id": "m8B7PcQrGsPC",
        "outputId": "9389bf06-9196-4277-ddf8-294952c30e3b"
      },
      "execution_count": 35,
      "outputs": [
        {
          "output_type": "stream",
          "name": "stdout",
          "text": [
            "7\n",
            "5040\n"
          ]
        }
      ]
    },
    {
      "cell_type": "code",
      "source": [
        "def fibonacci(n):\n",
        "    first = 0\n",
        "    second = 1\n",
        "    for c in range(0,n):\n",
        "        if c==0 or c== 1:\n",
        "            next = c\n",
        "        else:\n",
        "            next = first+second\n",
        "            first = second\n",
        "            second = next\n",
        "        print(next)\n",
        "fibonacci(11)"
      ],
      "metadata": {
        "colab": {
          "base_uri": "https://localhost:8080/"
        },
        "id": "Yj1-CdL7GGYM",
        "outputId": "80da6e28-a80c-443a-f3fd-8b9d4a318d00"
      },
      "execution_count": 36,
      "outputs": [
        {
          "output_type": "stream",
          "name": "stdout",
          "text": [
            "0\n",
            "1\n",
            "1\n",
            "2\n",
            "3\n",
            "5\n",
            "8\n",
            "13\n",
            "21\n",
            "34\n",
            "55\n"
          ]
        }
      ]
    },
    {
      "cell_type": "code",
      "source": [
        "def prime(n):\n",
        "    count = 0\n",
        "    for i in range(1, n + 1):\n",
        "        if n % i == 0:\n",
        "            count += 1\n",
        "    return count == 2\n",
        "\n",
        "input_number = int(input(\"Enter a number: \"))\n",
        "\n",
        "def prime_less(input_num):\n",
        "    for i in range(input_num - 1, 1, -1):  # Start from input_num - 1 down to 2\n",
        "        if prime(i):\n",
        "            print(i)\n",
        "\n",
        "\n",
        "prime_less(input_number)\n"
      ],
      "metadata": {
        "colab": {
          "base_uri": "https://localhost:8080/"
        },
        "id": "QaW1UyNGLuka",
        "outputId": "943654c9-4782-4bbd-ac18-9b268caf3068"
      },
      "execution_count": 37,
      "outputs": [
        {
          "output_type": "stream",
          "name": "stdout",
          "text": [
            "Enter a number: 89\n",
            "83\n",
            "79\n",
            "73\n",
            "71\n",
            "67\n",
            "61\n",
            "59\n",
            "53\n",
            "47\n",
            "43\n",
            "41\n",
            "37\n",
            "31\n",
            "29\n",
            "23\n",
            "19\n",
            "17\n",
            "13\n",
            "11\n",
            "7\n",
            "5\n",
            "3\n",
            "2\n"
          ]
        }
      ]
    }
  ],
  "metadata": {
    "colab": {
      "provenance": []
    },
    "kernelspec": {
      "display_name": "Python 3",
      "name": "python3"
    },
    "language_info": {
      "name": "python"
    }
  },
  "nbformat": 4,
  "nbformat_minor": 0
}