{
  "nbformat": 4,
  "nbformat_minor": 0,
  "metadata": {
    "colab": {
      "provenance": []
    },
    "kernelspec": {
      "name": "python3",
      "display_name": "Python 3"
    },
    "language_info": {
      "name": "python"
    }
  },
  "cells": [
    {
      "cell_type": "code",
      "execution_count": null,
      "metadata": {
        "colab": {
          "base_uri": "https://localhost:8080/"
        },
        "id": "xfrIlMzkgUKa",
        "outputId": "6f236c96-fab0-4e4d-aa37-fe74a82733e9"
      },
      "outputs": [
        {
          "name": "stdout",
          "output_type": "stream",
          "text": [
            "7,8,98\n"
          ]
        }
      ],
      "source": [
        "x,y,z=input().split(',')"
      ]
    },
    {
      "cell_type": "code",
      "source": [
        "def oddnumbers():\n",
        "    for i in range(1,15):\n",
        "        if(i%2!=0):\n",
        "            print(i)\n",
        "oddnumbers()"
      ],
      "metadata": {
        "colab": {
          "base_uri": "https://localhost:8080/"
        },
        "id": "Gx7TGfo_hVyF",
        "outputId": "433d56b5-a15b-4f52-bd6c-787555e4fc93"
      },
      "execution_count": null,
      "outputs": [
        {
          "output_type": "stream",
          "name": "stdout",
          "text": [
            "1\n",
            "3\n",
            "5\n",
            "7\n",
            "9\n",
            "11\n",
            "13\n"
          ]
        }
      ]
    },
    {
      "cell_type": "code",
      "source": [
        "def printCollatz(n):\n",
        "    while n != 1:\n",
        "        print(n, end = ' ')\n",
        "        if n & 1:\n",
        "            n = 3 * n + 1\n",
        "        else:\n",
        "            n = n // 2\n",
        "    print(n)\n",
        "printCollatz(5)\n"
      ],
      "metadata": {
        "colab": {
          "base_uri": "https://localhost:8080/"
        },
        "id": "RYIxM-x_nw9M",
        "outputId": "87807ac1-7e3d-4ae7-808a-8814a51f4ef5"
      },
      "execution_count": null,
      "outputs": [
        {
          "output_type": "stream",
          "name": "stdout",
          "text": [
            "5 16 8 4 2 1\n"
          ]
        }
      ]
    },
    {
      "cell_type": "code",
      "source": [
        "def fibonacciSeries(i):\n",
        "    if i <= 1:\n",
        "        return i\n",
        "    else:\n",
        "        return (fibonacciSeries(i - 1) + fibonacciSeries(i - 2))\n",
        "    num=10\n",
        "    if num <=0:\n",
        "        print(\"Please give a Positive Number\")\n",
        "    else:\n",
        "        print(\"Fibonacci Series:\",end=\" \")\n",
        "\n",
        "def evenfib(i):\n",
        "    for i in range(num):\n",
        "        if(i%2==0):\n",
        "            return (i)\n",
        "\n",
        "for i in range(num):\n",
        "\n",
        "    print(fibonacciSeries(i),end=\" \")"
      ],
      "metadata": {
        "colab": {
          "base_uri": "https://localhost:8080/"
        },
        "id": "zD_VUgbrrPAf",
        "outputId": "cd179249-e6c3-49a1-b49c-d98ee7f7788d"
      },
      "execution_count": null,
      "outputs": [
        {
          "output_type": "stream",
          "name": "stdout",
          "text": [
            "0 1 1 2 3 5 8 13 21 34 "
          ]
        }
      ]
    },
    {
      "cell_type": "code",
      "source": [
        "\n",
        "def fibonacci(i):\n",
        "    if i<1:\n",
        "        return i\n",
        "    else:\n",
        "        return (fibonacci(i-1)+fibonacci(i-2))\n",
        "    num=15\n",
        "    if num<=100:\n",
        "        print(\"invaliid\")\n",
        "    else:\n",
        "        print(end=\" \")\n",
        "for i in range(num):\n",
        "    if(i%2!=0):\n",
        "        print(i)"
      ],
      "metadata": {
        "colab": {
          "base_uri": "https://localhost:8080/"
        },
        "id": "u981Xr-srg1R",
        "outputId": "459b50f3-a726-4d98-87a4-beb03f0b9e19"
      },
      "execution_count": null,
      "outputs": [
        {
          "output_type": "stream",
          "name": "stdout",
          "text": [
            "1\n",
            "3\n",
            "5\n",
            "7\n",
            "9\n"
          ]
        }
      ]
    },
    {
      "cell_type": "code",
      "source": [
        "num = int(input('Enter a number: '))\n",
        "num_original =num2=num\n",
        "sum1 = 0\n",
        "cnt=0\n",
        "while(num>0):\n",
        "    cnt=cnt+1\n",
        "    num=num//10\n",
        "while num2>0:\n",
        "    rem = num2% 10\n",
        "    sum1 += rem ** cnt\n",
        "    num2//= 10\n",
        "if(num_original==sum1):\n",
        "    print('Armstrong!!')\n",
        "else:\n",
        "    print('Not Armstrong!')"
      ],
      "metadata": {
        "colab": {
          "base_uri": "https://localhost:8080/"
        },
        "id": "zKLPzxD75438",
        "outputId": "1510b149-e65c-49ca-e4e4-4deee985f119"
      },
      "execution_count": null,
      "outputs": [
        {
          "output_type": "stream",
          "name": "stdout",
          "text": [
            "Enter a number: 435\n",
            "Not Armstrong!\n"
          ]
        }
      ]
    },
    {
      "cell_type": "code",
      "execution_count": 3,
      "metadata": {
        "colab": {
          "base_uri": "https://localhost:8080/"
        },
        "id": "EaaYSE7I-i9s",
        "outputId": "8423391a-d727-472f-9469-45293846d535"
      },
      "outputs": [
        {
          "output_type": "stream",
          "name": "stdout",
          "text": [
            "Enter the value of N: \n",
            "10\n",
            "3 5 8 13 21 34 55 89 144 233 "
          ]
        }
      ],
      "source": [
        " #  prime fibonacci series\n",
        " countPrime=0\n",
        " endNum= 0\n",
        " a0= 0\n",
        " a1= 1\n",
        " checkPrime= False\n",
        " n= int(input(\"Enter the value of N: \\n\"))\n",
        " while (countPrime < n):\n",
        "      endNum= a0 + a1\n",
        "      a0= a1\n",
        "      a1= endNum\n",
        "      for i in range(2, endNum+1):                   # prime check\n",
        "           if (not endNum % i ==0 and endNum > 2):\n",
        "                checkPrime= True\n",
        "      if(checkPrime==True):\n",
        "          countPrime+=1\n",
        "          print(endNum, end=\" \")"
      ]
    },
    {
      "cell_type": "code",
      "execution_count": 2,
      "metadata": {
        "colab": {
          "base_uri": "https://localhost:8080/"
        },
        "id": "2VLdP9xk6UeO",
        "outputId": "bcfc69b1-ecbd-4f8c-841e-c05f41bd9ec4"
      },
      "outputs": [
        {
          "output_type": "stream",
          "name": "stdout",
          "text": [
            "False\n"
          ]
        }
      ],
      "source": [
        "# prime number testing\n",
        "from itertools import permutations\n",
        "def isPrime(n):\n",
        "    for i in range(2,n):\n",
        "        if n%i==0:\n",
        "            return False\n",
        "    else:\n",
        "        return True\n",
        "print(isPrime(9))"
      ]
    },
    {
      "cell_type": "code",
      "execution_count": 1,
      "metadata": {
        "id": "qQYXLeJ_G0a0",
        "colab": {
          "base_uri": "https://localhost:8080/"
        },
        "outputId": "d9193613-ee1f-40ff-9d96-c42f2530babe"
      },
      "outputs": [
        {
          "output_type": "stream",
          "name": "stdout",
          "text": [
            "Enter the number: 28\n",
            "The entered number is a perfect number\n"
          ]
        }
      ],
      "source": [
        "# perfect number\n",
        "n=int(input(\"Enter the number: \"))\n",
        "sum=0\n",
        "for i in range(1,n):\n",
        "    if (n%i==0):\n",
        "        sum+=i\n",
        "if(sum==n):\n",
        "    print(\"The entered number is a perfect number\")\n",
        "else:\n",
        "    print(\"The entered number is not a perfect number\")"
      ]
    }
  ]
}