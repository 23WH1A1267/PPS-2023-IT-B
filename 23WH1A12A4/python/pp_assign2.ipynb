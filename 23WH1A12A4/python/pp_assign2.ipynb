{
  "nbformat": 4,
  "nbformat_minor": 0,
  "metadata": {
    "colab": {
      "provenance": []
    },
    "kernelspec": {
      "name": "python3",
      "display_name": "Python 3"
    },
    "language_info": {
      "name": "python"
    }
  },
  "cells": [
    {
      "cell_type": "code",
      "execution_count": null,
      "metadata": {
        "id": "XrTvAGRCRYC4",
        "colab": {
          "base_uri": "https://localhost:8080/"
        },
        "outputId": "90b64b5c-dc8d-4517-d9e8-6a7780431341"
      },
      "outputs": [
        {
          "output_type": "stream",
          "name": "stdout",
          "text": [
            "143.2394487827058\n"
          ]
        }
      ],
      "source": [
        "#radians to degree\n",
        "import math\n",
        "\n",
        "def radians_to_degrees(radians):\n",
        "    return radians * (180 / math.pi)\n",
        "\n",
        "# Example usage:\n",
        "angle_in_radians = 2.5\n",
        "angle_in_degrees = radians_to_degrees(angle_in_radians)\n",
        "print(angle_in_degrees)"
      ]
    },
    {
      "cell_type": "code",
      "source": [
        "#Ascending,descending\n",
        "def sort_numbers(numbers, order):\n",
        "    if order == \"asc\":\n",
        "        return sorted(numbers)\n",
        "    elif order == \"desc\":\n",
        "        return sorted(numbers, reverse=True)\n",
        "    elif order == \"none\":\n",
        "        return numbers\n",
        "    else:\n",
        "        return \"Invalid order parameter. Please use 'asc', 'desc', or 'none'.\"\n",
        "\n",
        "# Get user input for list of numbers\n",
        "numbers_str = input(\"Enter numbers separated by spaces: \")\n",
        "numbers_list = [int(num) for num in numbers_str.split()]\n",
        "\n",
        "# Get user input for sorting order\n",
        "order = input(\"Enter sorting order ('asc', 'desc', or 'none'): \")\n",
        "\n",
        "# Call the function with user inputs\n",
        "result = sort_numbers(numbers_list, order)\n",
        "print(\"Result:\", result)"
      ],
      "metadata": {
        "id": "RXeHmkM5SZeZ",
        "colab": {
          "base_uri": "https://localhost:8080/"
        },
        "outputId": "8157f698-9353-4123-d0fb-da88e825d718"
      },
      "execution_count": null,
      "outputs": [
        {
          "output_type": "stream",
          "name": "stdout",
          "text": [
            "Enter numbers separated by spaces: 1 2 3 4 7 3 6\n",
            "Enter sorting order ('asc', 'desc', or 'none'): desc\n",
            "Result: [7, 6, 4, 3, 3, 2, 1]\n"
          ]
        }
      ]
    },
    {
      "cell_type": "code",
      "source": [
        "#decimal to binary\n",
        "def decimal_to_binary(decimal):\n",
        "    if not 0 <= decimal < 1024:\n",
        "        return \"Decimal number must be between 0 and 1023.\"\n",
        "    binary = bin(decimal)[2:]  # Convert decimal to binary string, remove '0b' prefix\n",
        "    return binary\n",
        "\n",
        "# Example usage:\n",
        "decimal_number = 67\n",
        "binary_number = decimal_to_binary(decimal_number)\n",
        "print(binary_number)"
      ],
      "metadata": {
        "id": "7BODtFC_VPnw",
        "colab": {
          "base_uri": "https://localhost:8080/"
        },
        "outputId": "e88f9c11-1bb9-4304-8b1c-8903f23ebab1"
      },
      "execution_count": null,
      "outputs": [
        {
          "output_type": "stream",
          "name": "stdout",
          "text": [
            "1000011\n"
          ]
        }
      ]
    },
    {
      "cell_type": "code",
      "source": [
        "#vowels in a string\n",
        "def count_vowels(word):\n",
        "    vowels = 'aeiouAEIOU'  # Include both lowercase and uppercase vowels\n",
        "    count = 0\n",
        "    for char in word:\n",
        "        if char in vowels:\n",
        "            count += 1\n",
        "    return count\n",
        "\n",
        "# Example usage:\n",
        "word = \"hello\"\n",
        "num_vowels = count_vowels(word)\n",
        "print(\"Number of vowels in\", word, \":\", num_vowels)"
      ],
      "metadata": {
        "id": "BaudjZx6WTgB",
        "colab": {
          "base_uri": "https://localhost:8080/"
        },
        "outputId": "fd3f4af1-3e1a-4a53-fb1d-ec25dfe6c5b9"
      },
      "execution_count": null,
      "outputs": [
        {
          "output_type": "stream",
          "name": "stdout",
          "text": [
            "Number of vowels in hello : 2\n"
          ]
        }
      ]
    },
    {
      "cell_type": "code",
      "source": [
        "#credit card number hiding\n",
        "def hide_credit_card_number(card_number):\n",
        "    hidden_part = '*' * (len(card_number) - 4)\n",
        "    visible_part = card_number[-4:]\n",
        "    return hidden_part + visible_part\n",
        "\n",
        "# Example usage:\n",
        "credit_card_number = \"4444444444444444\"\n",
        "hidden_number = hide_credit_card_number(credit_card_number)\n",
        "print(hidden_number)"
      ],
      "metadata": {
        "id": "fiypCcfVWnWP",
        "colab": {
          "base_uri": "https://localhost:8080/"
        },
        "outputId": "e031dd96-0fba-4909-eb63-785d05d4a0fa"
      },
      "execution_count": null,
      "outputs": [
        {
          "output_type": "stream",
          "name": "stdout",
          "text": [
            "************4444\n"
          ]
        }
      ]
    },
    {
      "cell_type": "code",
      "source": [
        "#calculator\n",
        "def perform_operation(num1, operator, num2):\n",
        "    if operator == '+':\n",
        "        return num1 + num2\n",
        "    elif operator == '-':\n",
        "        return num1 - num2\n",
        "    elif operator == '/':\n",
        "        if num2 == 0:\n",
        "            return \"Error: Division by zero!\"\n",
        "        return num1 / num2\n",
        "    elif operator == '*':\n",
        "        return num1 * num2\n",
        "    else:\n",
        "        return \"Invalid operator.\"\n",
        "\n",
        "# Example usage:\n",
        "result = perform_operation(5, '+', 3)\n",
        "print(\"Result:\", result)\n",
        "\n",
        "result = perform_operation(10, '/', 2)\n",
        "print(\"Result:\", result)\n",
        "\n",
        "result = perform_operation(4, '*', 7)\n",
        "print(\"Result:\", result)\n",
        "\n",
        "result = perform_operation(8, '-', 6)\n",
        "print(\"Result:\", result)"
      ],
      "metadata": {
        "id": "119peegSW_Qd",
        "colab": {
          "base_uri": "https://localhost:8080/"
        },
        "outputId": "a64f6668-5b7c-4ce5-daf1-4bf07cf2748f"
      },
      "execution_count": null,
      "outputs": [
        {
          "output_type": "stream",
          "name": "stdout",
          "text": [
            "Result: 8\n",
            "Result: 5.0\n",
            "Result: 28\n",
            "Result: 2\n"
          ]
        }
      ]
    },
    {
      "cell_type": "code",
      "source": [
        "#discount\n",
        "def apply_discount(full_price, discount_percentage):\n",
        "    discount_amount = full_price * (discount_percentage / 100)\n",
        "    discounted_price = full_price - discount_amount\n",
        "    return discounted_price\n",
        "\n",
        "# Example usage:\n",
        "full_price = 100\n",
        "discount_percentage = 20\n",
        "discounted_price = apply_discount(full_price, discount_percentage)\n",
        "print(\"Discounted price:\", discounted_price)"
      ],
      "metadata": {
        "id": "wTj6yzHTXTy3",
        "colab": {
          "base_uri": "https://localhost:8080/"
        },
        "outputId": "c4e9cee7-4022-485b-8f32-3bdeaf386e8d"
      },
      "execution_count": null,
      "outputs": [
        {
          "output_type": "stream",
          "name": "stdout",
          "text": [
            "Discounted price: 80.0\n"
          ]
        }
      ]
    },
    {
      "cell_type": "code",
      "source": [
        "#non negative integers\n",
        "def filter_integers(input_list):\n",
        "    return [x for x in input_list if isinstance(x, int) and x >= 0]\n",
        "\n",
        "# Example usage:\n",
        "mixed_list = [5, 'apple', 8, 'banana', 10, 'orange', 3]\n",
        "filtered_integers = filter_integers(mixed_list)\n",
        "print(\"Filtered integers:\", filtered_integers)"
      ],
      "metadata": {
        "id": "pj4FjEJPYKqK",
        "colab": {
          "base_uri": "https://localhost:8080/"
        },
        "outputId": "fb3058fa-d24a-44d7-f2e6-063eda6c88be"
      },
      "execution_count": null,
      "outputs": [
        {
          "output_type": "stream",
          "name": "stdout",
          "text": [
            "Filtered integers: [5, 8, 10, 3]\n"
          ]
        }
      ]
    },
    {
      "cell_type": "code",
      "source": [
        "#repeat the characters\n",
        "def double_characters(input_string):\n",
        "    doubled_string = ''.join(char * 2 for char in input_string)\n",
        "    return doubled_string\n",
        "\n",
        "# Example usage:\n",
        "original_string = \"now\"\n",
        "doubled_string = double_characters(original_string)\n",
        "print(\"Doubled string:\", doubled_string)\n",
        "\n",
        "original_string = \"123a!\"\n",
        "doubled_string = double_characters(original_string)\n",
        "print(\"Doubled string:\", doubled_string)"
      ],
      "metadata": {
        "id": "ih3-BO3VYWVS",
        "outputId": "8d98b7cb-00cc-41af-91f4-d7078f74fb33",
        "colab": {
          "base_uri": "https://localhost:8080/"
        }
      },
      "execution_count": null,
      "outputs": [
        {
          "output_type": "stream",
          "name": "stdout",
          "text": [
            "Doubled string: nnooww\n",
            "Doubled string: 112233aa!!\n"
          ]
        }
      ]
    }
  ]
}