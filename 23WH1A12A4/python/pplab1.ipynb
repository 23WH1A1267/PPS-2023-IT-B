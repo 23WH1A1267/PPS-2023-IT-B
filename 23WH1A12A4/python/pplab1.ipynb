{
  "nbformat": 4,
  "nbformat_minor": 0,
  "metadata": {
    "colab": {
      "provenance": []
    },
    "kernelspec": {
      "name": "python3",
      "display_name": "Python 3"
    },
    "language_info": {
      "name": "python"
    }
  },
  "cells": [
    {
      "cell_type": "code",
      "source": [
        "names=['thanu','ashuu','megha','sai']\n",
        "for i in range(len(names)):\n",
        "    print(i,names[i])"
      ],
      "metadata": {
        "colab": {
          "base_uri": "https://localhost:8080/"
        },
        "id": "ZjsFVPkurBy-",
        "outputId": "5728853c-39c3-4027-b916-acd6e2d23b86"
      },
      "execution_count": null,
      "outputs": [
        {
          "output_type": "stream",
          "name": "stdout",
          "text": [
            "0 thanu\n",
            "1 ashuu\n",
            "2 megha\n",
            "3 sai\n"
          ]
        }
      ]
    },
    {
      "cell_type": "code",
      "source": [
        "#Given coordinates (x1, y1), (x2, y2) find the distance between two points\n",
        "import math\n",
        "x1=int(input(\"enter value for x1: \"))\n",
        "x2=int(input(\"enter value for x2: \"))\n",
        "y1=int(input(\"enter value for y1: \"))\n",
        "y2=int(input(\"enter value for y2: \"))\n",
        "math.sqrt((y2-y1)**2+(x2-x1)**2)"
      ],
      "metadata": {
        "colab": {
          "base_uri": "https://localhost:8080/"
        },
        "id": "eWFn5Snitmgp",
        "outputId": "9fdf149d-4d9a-40b1-ef29-84a7353000e7"
      },
      "execution_count": null,
      "outputs": [
        {
          "name": "stdout",
          "output_type": "stream",
          "text": [
            "enter value for x1: 6\n",
            "enter value for x2: 12\n",
            "enter value for y1: 4\n",
            "enter value for y2: 8\n"
          ]
        },
        {
          "output_type": "execute_result",
          "data": {
            "text/plain": [
              "7.211102550927978"
            ]
          },
          "metadata": {},
          "execution_count": 11
        }
      ]
    },
    {
      "cell_type": "code",
      "source": [
        "#Write a program to calculate compound interest when principal, rate and number of\n",
        "#periods are given.\n",
        "def compound_interest(principal,rate,time):\n",
        "    amount = principal*(pow((1+rate / 100),time))\n",
        "    CI = amount - principal\n",
        "    print(\"Compound interest is\", CI)\n",
        "principal=int(input(\"enter principal amount: \"))\n",
        "rate=int(input(\"enter rate of interest: \"))\n",
        "time=int(input(\"enter time in years: \"))\n",
        "\n",
        "compound_interest(principal,rate,time)"
      ],
      "metadata": {
        "colab": {
          "base_uri": "https://localhost:8080/"
        },
        "id": "7dW0rz_ivuC9",
        "outputId": "007af264-9f25-409c-c584-d3c807045fb0"
      },
      "execution_count": null,
      "outputs": [
        {
          "output_type": "stream",
          "name": "stdout",
          "text": [
            "enter principal amount: 45555\n",
            "enter rate of interest: 3\n",
            "enter time in years: 1\n",
            "Compound interest is 1366.6500000000015\n"
          ]
        }
      ]
    },
    {
      "cell_type": "code",
      "source": [
        "name=input(\"Enter your name: \")\n",
        "Mail=input(\"Enter your email id: \")\n",
        "Address=input(\"Enter your address: \")\n",
        "Phone_no=int(input(\"Enter your phone number: \"))\n",
        "print(name)\n",
        "print(Mail)\n",
        "print(Address)\n",
        "print(Phone_no)"
      ],
      "metadata": {
        "id": "Ax7IwZda18nd",
        "colab": {
          "base_uri": "https://localhost:8080/"
        },
        "outputId": "ed17c8fc-9064-4d65-a412-9391300c6db6"
      },
      "execution_count": null,
      "outputs": [
        {
          "output_type": "stream",
          "name": "stdout",
          "text": [
            "Enter your name: Thanusha\n",
            "Enter your email id: 23wh1a12a4@bvrithyderabad.edu.in \n",
            "Enter your address: Bachupally\n",
            "Enter your phone number: 9949098448\n",
            "Thanusha\n",
            "23wh1a12a4@bvrithyderabad.edu.in \n",
            "Bachupally\n",
            "9949098448\n"
          ]
        }
      ]
    },
    {
      "cell_type": "code",
      "source": [
        "#Generate prime numbers of fibonacci series between 1-50\n",
        "def generate_fibonacci(n):\n",
        "    fibonacci = [1, 1]\n",
        "    while True:\n",
        "        next_fib = fibonacci[-1] + fibonacci[-2]\n",
        "        if next_fib > n:\n",
        "            break\n",
        "        fibonacci.append(next_fib)\n",
        "    return fibonacci\n",
        "\n",
        "def is_prime(num):\n",
        "    if num <= 1:\n",
        "        return False\n",
        "    if num == 2:\n",
        "        return True\n",
        "    if num % 2 == 0:\n",
        "        return False\n",
        "    for i in range(3, int(num**0.5) + 1, 2):\n",
        "        if num % i == 0:\n",
        "            return False\n",
        "    return True\n",
        "\n",
        "fibonacci_numbers = generate_fibonacci(50)\n",
        "prime_fibonacci = [num for num in fibonacci_numbers if is_prime(num)]\n",
        "print(\"Prime Fibonacci numbers between 1 and 50:\", prime_fibonacci)"
      ],
      "metadata": {
        "colab": {
          "base_uri": "https://localhost:8080/"
        },
        "id": "fHbcJhWVTVuH",
        "outputId": "3418b6c3-f307-4a58-fe0e-565a9686fb25"
      },
      "execution_count": null,
      "outputs": [
        {
          "output_type": "stream",
          "name": "stdout",
          "text": [
            "Prime Fibonacci numbers between 1 and 50: [2, 3, 5, 13]\n"
          ]
        }
      ]
    },
    {
      "cell_type": "code",
      "source": [
        "\n",
        "#Find the Euclidean distance with the given values and check the validity of values to find\n",
        "#the distance.\n",
        "import math\n",
        "x1=int(input(\"enter value for x1: \"))\n",
        "x2=int(input(\"enter value for x2: \"))\n",
        "y1=int(input(\"enter value for y1: \"))\n",
        "y2=int(input(\"enter value for y2: \"))\n",
        "math.sqrt((y2-y1)**2+(x2-x1)**2)"
      ],
      "metadata": {
        "colab": {
          "base_uri": "https://localhost:8080/"
        },
        "id": "I4Dy6s2XUHuJ",
        "outputId": "4584cb66-9210-4e25-beb6-5d921c6c23d3"
      },
      "execution_count": null,
      "outputs": [
        {
          "name": "stdout",
          "output_type": "stream",
          "text": [
            "enter value for x1: 4\n",
            "enter value for x2: 3\n",
            "enter value for y1: 6\n",
            "enter value for y2: 4\n"
          ]
        },
        {
          "output_type": "execute_result",
          "data": {
            "text/plain": [
              "2.23606797749979"
            ]
          },
          "metadata": {},
          "execution_count": 4
        }
      ]
    },
    {
      "cell_type": "code",
      "source": [
        "#Generate a random number between 1-10 and ask the user to guess the number. Give chance\n",
        "#for 3 times. If guessed correctly then congratulate otherwise print message as sorry.\n",
        "def randomNum(count,onum,n):\n",
        "    if count == 2:\n",
        "        print(\"Sorry,you are out of chances\")\n",
        "        return\n",
        "    if n == onum:\n",
        "        print(\"Wow! You guessed it right\")\n",
        "        return\n",
        "    else:\n",
        "        print(\"Sorry! You guessed it wrong.\")\n",
        "        count += 1\n",
        "        n = guess(n)\n",
        "        randomNum(count,onum,n)\n",
        "\n",
        "\n",
        "def guess(n):\n",
        "    num = int(input(\"Enter a number from 1-10 \"))\n",
        "    return n\n",
        "\n",
        "print(\"Hello! Ready to guess a number?\")\n",
        "ori_num = 6\n",
        "count = 0\n",
        "num = int(input(\"Enter a number from 1-10 \"))\n",
        "\n",
        "for i in range(0,3):\n",
        "    randomNum(count,ori_num, num)\n",
        "    break"
      ],
      "metadata": {
        "colab": {
          "base_uri": "https://localhost:8080/"
        },
        "id": "wKe6TV_3UdH9",
        "outputId": "8375d15f-ad88-4c3e-ab1b-215e06a7e955"
      },
      "execution_count": null,
      "outputs": [
        {
          "output_type": "stream",
          "name": "stdout",
          "text": [
            "Hello! Ready to guess a number?\n",
            "Enter a number from 1-10 5\n",
            "Sorry! You guessed it wrong.\n",
            "Enter a number from 1-10 6\n",
            "Sorry! You guessed it wrong.\n",
            "Enter a number from 1-10 7\n",
            "Sorry,you are out of chances\n"
          ]
        }
      ]
    },
    {
      "cell_type": "code",
      "source": [],
      "metadata": {
        "id": "fJkNzBBHvpzZ"
      },
      "execution_count": null,
      "outputs": []
    }
  ]
}