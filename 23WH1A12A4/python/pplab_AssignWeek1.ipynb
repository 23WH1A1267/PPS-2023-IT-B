{
  "cells": [
    {
      "cell_type": "code",
      "execution_count": null,
      "metadata": {
        "id": "S8jsxxlIwJvJ"
      },
      "outputs": [],
      "source": [
        "#Program to display the bio data of a student with the following details :name, age, dob,\n",
        "#branch, college, Email-id, phone number.              1\n",
        "name=input(\"enter your name: \")\n",
        "age=int(input('enter your age: '))\n",
        "dob=int(input(\"enter your date of birth: \"))\n",
        "branch= input(\"enter your respective branch: \")\n",
        "college= input(\"enter your clg name: \")\n",
        "email= input('enter   your mail id: ')\n",
        "phone_n0=  int(input(\"enter your mobile number: \"))\n",
        "print(name)\n",
        "print(age)\n",
        "print(dob)\n",
        "print(branch)\n",
        "print(college)\n",
        "print(email)\n",
        "print(phone_no)"
      ]
    },
    {
      "cell_type": "code",
      "execution_count": null,
      "metadata": {
        "colab": {
          "base_uri": "https://localhost:8080/"
        },
        "id": "V1gesINFxf8r",
        "outputId": "6c3b1094-cbe8-4cd5-af4c-d3e8081c48ea"
      },
      "outputs": [
        {
          "name": "stdout",
          "output_type": "stream",
          "text": [
            "enter telugu marks: 99\n",
            "enter hindi marks: 98\n",
            "enter english marks: 89\n",
            "enter maths marks: 98\n",
            "enter science marks: 90\n",
            "94.8\n"
          ]
        }
      ],
      "source": [
        "#Program to enter the marks of 5 subjects of a student. Compute the total and average mark of\n",
        "#the student and display it.          3\n",
        "telugu=int(input(\"enter telugu marks: \"))\n",
        "hindi=int(input(\"enter hindi marks: \"))\n",
        "english=int(input(\"enter english marks: \"))\n",
        "maths=int(input(\"enter maths marks: \"))\n",
        "science=int(input(\"enter science marks: \"))\n",
        "sum=telugu+hindi+english+maths+science\n",
        "average=sum/5\n",
        "print(average)"
      ]
    },
    {
      "cell_type": "code",
      "execution_count": null,
      "metadata": {
        "colab": {
          "base_uri": "https://localhost:8080/"
        },
        "id": "f5FI5p4pyX49",
        "outputId": "61f7f9f9-b7e5-44a0-c618-b368078b359d"
      },
      "outputs": [
        {
          "name": "stdout",
          "output_type": "stream",
          "text": [
            "enter any number: 5\n",
            "enter secound number: 5\n",
            "enter any operator from these('+','-','*','%','/'): +\n",
            "10\n"
          ]
        }
      ],
      "source": [
        "#Implement calculator operations using chained conditionals.       4\n",
        "a=int(input(\"enter any number: \"))\n",
        "b=int(input(\"enter secound number: \"))\n",
        "operator=input(\"enter any operator from these('+','-','*','%','/'): \")\n",
        "\n",
        "if operator==\"+\":\n",
        "    result =a+b\n",
        "elif operator==\"-\":\n",
        "    result= a-b\n",
        "elif operator==\"*\":\n",
        "    result= a*b\n",
        "elif operator==\"%\":\n",
        "    result= a%b\n",
        "elif operator==\"/\":\n",
        "    result= a/b\n",
        "else:\n",
        "    print(\"invalid input.\")\n",
        "print(result)"
      ]
    },
    {
      "cell_type": "code",
      "execution_count": null,
      "metadata": {
        "colab": {
          "base_uri": "https://localhost:8080/"
        },
        "id": "IV3cvIxg2ysB",
        "outputId": "b69e444e-899a-4eeb-ae1b-a8bbcb659ebd"
      },
      "outputs": [
        {
          "name": "stdout",
          "output_type": "stream",
          "text": [
            "5\n",
            "5\n",
            "5\n",
            "the triangle is equilateral\n"
          ]
        }
      ],
      "source": [
        "#Check whether the triangle is scalene, isosceles, equilateral(Input the three sides of the\n",
        "#triangle)             5\n",
        "a=int(input())\n",
        "b=int(input())\n",
        "c=int(input())\n",
        "if (a==b==c):\n",
        "    print(\"the triangle is equilateral\")\n",
        "elif (a!=b!=c):\n",
        "    print(\"the triangle is scalen\")\n",
        "else:\n",
        "    print(\"the triangle is isosceles\")"
      ]
    },
    {
      "cell_type": "code",
      "execution_count": null,
      "metadata": {
        "colab": {
          "base_uri": "https://localhost:8080/"
        },
        "id": "XYI2TEGb4Caq",
        "outputId": "3922f8e0-acc0-486c-f84a-8120692076e8"
      },
      "outputs": [
        {
          "name": "stdout",
          "output_type": "stream",
          "text": [
            "enter a value: 7\n",
            "enter b value: 8\n",
            "8\n",
            "7\n",
            "value of x after swapping:  8\n",
            "value of y after swapping:  7\n"
          ]
        }
      ],
      "source": [
        "#Swap two numbers                6\n",
        "# a) Using temporary variable\n",
        "a=int(input(\"enter a value: \"))\n",
        "b=int(input(\"enter b value: \"))\n",
        "temp=a\n",
        "a=b\n",
        "b=temp\n",
        "print(a)\n",
        "print(b)\n",
        "\n",
        "\n",
        "#b) Without using temporary variable\n",
        "a,b=a,b\n",
        "print(\"value of x after swapping: \",a)\n",
        "print(\"value of y after swapping: \",b)"
      ]
    },
    {
      "cell_type": "code",
      "execution_count": null,
      "metadata": {
        "colab": {
          "base_uri": "https://localhost:8080/"
        },
        "id": "P6Nf52bX5LEY",
        "outputId": "17cf2f49-a8f0-4b02-8fc4-20c2ca712a18"
      },
      "outputs": [
        {
          "name": "stdout",
          "output_type": "stream",
          "text": [
            "enter number: 9\n",
            "1\n",
            "2\n",
            "FIZZ\n",
            "4\n",
            "BUZZ\n",
            "FIZZ\n",
            "7\n",
            "8\n",
            "FIZZ\n"
          ]
        }
      ],
      "source": [
        "##Write a program for Fizz Buzz.Fizz Buzz Problem states that given an  integer  n, for every\n",
        "#integer i <= n, the task is to print “FizzBuzz” if i is divisible by 3 and 5, “Fizz” if i is\n",
        "#divisible by 3, “Buzz” if i is divisible by 5 or i (as a string) if none of the conditions are true..        7\n",
        "def fizz_buzz(n):\n",
        "    for i in range(1,n+1):\n",
        "        if i%3==0 and i%5==0:\n",
        "            print(\"FIZZ BUZZ\")\n",
        "        elif i%3==0:\n",
        "            print(\"FIZZ\")\n",
        "        elif i %5==0:\n",
        "            print(\"BUZZ\")\n",
        "        else:\n",
        "            print(str(i))\n",
        "n=int(input(\"enter number: \"))\n",
        "fizz_buzz(n)"
      ]
    },
    {
      "cell_type": "code",
      "execution_count": null,
      "metadata": {
        "colab": {
          "base_uri": "https://localhost:8080/"
        },
        "id": "fBPQzm8A77DN",
        "outputId": "18c2ede5-d7cf-49ee-8587-3f1a77169082"
      },
      "outputs": [
        {
          "name": "stdout",
          "output_type": "stream",
          "text": [
            "6\n",
            "7\n",
            "8\n",
            "129.7304898626379\n"
          ]
        }
      ],
      "source": [
        "#Program to find the area of the triangle using Heron’s formula   8\n",
        "a=int(input())\n",
        "b=int(input())\n",
        "c=int(input())\n",
        "s=a+b+c/2\n",
        "area=(s*(s-a)*(s-b)*(s-c))**0.5\n",
        "print(area)"
      ]
    },
    {
      "cell_type": "code",
      "execution_count": null,
      "metadata": {
        "colab": {
          "background_save": true
        },
        "id": "E77u3Xiu9qXO",
        "outputId": "e139d9b9-6e01-4693-b181-71bd742a7b3c"
      },
      "outputs": [
        {
          "name": "stdout",
          "output_type": "stream",
          "text": [
            "16\n",
            "2.0\n"
          ]
        }
      ],
      "source": [
        "#Program to find the square and square root of the given number     9\n",
        "a=int(input(\"enter any number: \"))\n",
        "square= a**2\n",
        "squareroot=a**0.5\n",
        "print(square)\n",
        "print(squareroot)"
      ]
    },
    {
      "cell_type": "code",
      "source": [
        "#Check whether the given triangle is acute , obtuse or right angled by entering 3 sides of the triangle\n",
        "def triangleType(a, b, c):       #10\n",
        "    a = pow(a, 2)\n",
        "    b = pow(b, 2)\n",
        "    c = pow(c, 2)\n",
        "\n",
        "a = int(input(\"Enter side a: \"))\n",
        "b = int(input(\"Enter side b: \"))\n",
        "c = int(input(\"Enter side c: \"))\n",
        "if (a == c+b or b == a+c or c == a+b):\n",
        "   print(\"Right-angled triangle\")\n",
        "elif (a > c + b or b > a+c or c > a+b):\n",
        "   print(\"Obtuse-angled triangle\")\n",
        "else:\n",
        "    print(\"Acute-angled triangle\")\n",
        "\n",
        "triangleType(a, b, c)"
      ],
      "metadata": {
        "id": "l3mYc97xXpLQ",
        "colab": {
          "base_uri": "https://localhost:8080/"
        },
        "outputId": "15475f4e-3ced-44c1-978d-4746954c4d28"
      },
      "execution_count": null,
      "outputs": [
        {
          "output_type": "stream",
          "name": "stdout",
          "text": [
            "Enter side a: 4\n",
            "Enter side b: 7\n",
            "Enter side c: 1\n",
            "Obtuse-angled triangle\n"
          ]
        }
      ]
    },
    {
      "cell_type": "code",
      "source": [
        "#implement a program to find the greatest among 3 numbers\n",
        "a=int(input())       #11\n",
        "b=int(input())\n",
        "c=int(input())\n",
        "if a>b and a>c:\n",
        "   Print(\"a is the greatest among 3\")\n",
        "elif b>a and b>c:\n",
        "   print(\"b is the greatest among 3\")\n",
        "else:\n",
        "   print(\"c is the greatest among all 3\")"
      ],
      "metadata": {
        "id": "nqKRH3XXv6x1"
      },
      "execution_count": null,
      "outputs": []
    },
    {
      "cell_type": "code",
      "source": [
        "9#Implement a program to print grades based on marks.         12\n",
        "marks=int(input())\n",
        "if marks==100 and marks >=90:\n",
        "     print(\"A grade\")\n",
        "elif marks<90 and marks>=75:\n",
        "     print (\"B grade\")\n",
        "elif marks<75 and marks>= 50:\n",
        "     print(\"C grade\")\n",
        "elif marks<50 and marks>= 40:\n",
        "     print(\"D grade\")\n",
        "else:\n",
        "     print(\"failed\")"
      ],
      "metadata": {
        "id": "BJGq2q8Cdg7F",
        "colab": {
          "base_uri": "https://localhost:8080/"
        },
        "outputId": "da4f97c8-95a1-40fc-fd88-e0da9a42afb0"
      },
      "execution_count": null,
      "outputs": [
        {
          "output_type": "stream",
          "name": "stdout",
          "text": [
            "67\n",
            "C grade\n"
          ]
        }
      ]
    },
    {
      "cell_type": "code",
      "source": [
        "\n",
        "#Implement  a program to check whether the given year is leap year or not      13\n",
        "Year=int(input())\n",
        "if ((Year % 400 == 0) or (Year % 100 != 0) and (Year % 4 == 0)):\n",
        "    print(\"leap year\")\n",
        "else:\n",
        "    print(\"non leap year\")"
      ],
      "metadata": {
        "colab": {
          "base_uri": "https://localhost:8080/"
        },
        "id": "PCX3GZKVt5hu",
        "outputId": "b763ddf4-3dc9-4e45-853d-656d5189594d"
      },
      "execution_count": null,
      "outputs": [
        {
          "output_type": "stream",
          "name": "stdout",
          "text": [
            "2006\n",
            "non leap year\n"
          ]
        }
      ]
    },
    {
      "cell_type": "markdown",
      "source": [
        "LOOPS"
      ],
      "metadata": {
        "id": "h-B0Tj53veAi"
      }
    },
    {
      "cell_type": "code",
      "source": [
        "#Write a Python program to guess a number\n",
        " #between 1 and 9.      1\n",
        "from random import randint as rt\n",
        "guess = rt(1,9)\n",
        "while True:\n",
        "    urguess = int(input(\"Guess a number: \"))\n",
        "    if guess==urguess:\n",
        "       print(\"Well guessed!\")\n",
        "       break\n",
        "    else:\n",
        "        print(\"Incorrect!\\n\")"
      ],
      "metadata": {
        "id": "_rdK5X5BviAg",
        "colab": {
          "base_uri": "https://localhost:8080/"
        },
        "outputId": "ef19d9f6-ea84-4e23-83ce-cd112e8c0142"
      },
      "execution_count": null,
      "outputs": [
        {
          "output_type": "stream",
          "name": "stdout",
          "text": [
            "Guess a number: 3\n",
            "Incorrect!\n",
            "\n",
            "Guess a number: 7\n",
            "Incorrect!\n",
            "\n",
            "Guess a number: 9\n",
            "Incorrect!\n",
            "\n",
            "Guess a number: 4\n",
            "Incorrect!\n",
            "\n",
            "Guess a number: 1\n",
            "Incorrect!\n",
            "\n",
            "Guess a number: 2\n",
            "Well guessed!\n"
          ]
        }
      ]
    },
    {
      "cell_type": "code",
      "source": [
        "#Write a Python program print a list where the values are square of numbers between 1 and 20 (both included).          2\n",
        "squared_numbers = [x**2 for x in range(1, 21)]\n",
        "\n",
        "print(squared_numbers)"
      ],
      "metadata": {
        "id": "lmEXkzNj0tb-",
        "colab": {
          "base_uri": "https://localhost:8080/"
        },
        "outputId": "4c98e325-3627-40f9-efa9-ad65ae6c52f6"
      },
      "execution_count": null,
      "outputs": [
        {
          "output_type": "stream",
          "name": "stdout",
          "text": [
            "[1, 4, 9, 16, 25, 36, 49, 64, 81, 100, 121, 144, 169, 196, 225, 256, 289, 324, 361, 400]\n"
          ]
        }
      ]
    },
    {
      "cell_type": "code",
      "source": [
        "#Write a Python program to construct the following pattern, using a nested for loop.\n",
        " # *\n",
        " # * *\n",
        " # * * *            3\n",
        " # * * * *\n",
        " # * * * * *\n",
        "\n",
        "\n",
        "n=6\n",
        "for j in range(n):\n",
        "    for i in range(j):\n",
        "        print('* ',end=\"\")\n",
        "    print('')"
      ],
      "metadata": {
        "colab": {
          "base_uri": "https://localhost:8080/"
        },
        "id": "RURiE5oWn9jy",
        "outputId": "6c48076c-bbba-43ef-bebe-3af3dfd6d647"
      },
      "execution_count": null,
      "outputs": [
        {
          "output_type": "stream",
          "name": "stdout",
          "text": [
            "\n",
            "* \n",
            "* * \n",
            "* * * \n",
            "* * * * \n",
            "* * * * * \n"
          ]
        }
      ]
    },
    {
      "cell_type": "code",
      "source": [
        "#Program to find the sum of the digits of a number        4\n",
        "def getSum(n):\n",
        "    sum = 0\n",
        "    for digit in str(n):\n",
        "      sum += int(digit)\n",
        "    return sum\n",
        "n = int(input())\n",
        "print(getSum(n))"
      ],
      "metadata": {
        "id": "-tAbe5edonAn",
        "colab": {
          "base_uri": "https://localhost:8080/"
        },
        "outputId": "62102070-f193-4dfa-d3f5-6f5a3cdcc3b3"
      },
      "execution_count": null,
      "outputs": [
        {
          "output_type": "stream",
          "name": "stdout",
          "text": [
            "555333999\n",
            "51\n"
          ]
        }
      ]
    },
    {
      "cell_type": "code",
      "source": [
        "#Check whether a number is palindrome or not      5\n",
        "n=int(input(\"Enter number:\"))\n",
        "temp=n\n",
        "rev=0\n",
        "while(n>0):\n",
        "    dig=n%10\n",
        "    rev=rev*10+dig\n",
        "    n=n//10\n",
        "if(temp==rev):\n",
        "    print(\"The number is a palindrome!\")\n",
        "else:\n",
        "    print(\"The number isn't a palindrome!\")"
      ],
      "metadata": {
        "id": "lHcxU_Znq2so",
        "outputId": "2e004fd9-0284-45ad-b189-996a2715d224",
        "colab": {
          "base_uri": "https://localhost:8080/"
        }
      },
      "execution_count": null,
      "outputs": [
        {
          "output_type": "stream",
          "name": "stdout",
          "text": [
            "Enter number:151\n",
            "The number is a palindrome!\n"
          ]
        }
      ]
    },
    {
      "cell_type": "code",
      "source": [
        "#Implement a python program which uses a Boolean function isdivisible to check the divisibility of two numbers.       6"
      ],
      "metadata": {
        "id": "tqQfaPQQsIcw"
      },
      "execution_count": null,
      "outputs": []
    },
    {
      "cell_type": "code",
      "source": [
        "#Implement  a program that takes a number as parameter and check the number is prime or not    7"
      ],
      "metadata": {
        "id": "e3QepKuysYZS"
      },
      "execution_count": null,
      "outputs": []
    },
    {
      "cell_type": "code",
      "source": [
        "#Implement a program to check whether the number is in a given range        8\n",
        "def check_range(n):\n",
        "   if n  in range(1, 9):\n",
        "       print(\"%s is in a given range\" % str(n))\n",
        "   else:\n",
        "       print(\"not in a range\")\n",
        "check_range(5)"
      ],
      "metadata": {
        "id": "eE69qeu7clxE",
        "colab": {
          "base_uri": "https://localhost:8080/"
        },
        "outputId": "ec8b3903-6d2b-41a0-fc51-2ef67bb095ed"
      },
      "execution_count": null,
      "outputs": [
        {
          "output_type": "stream",
          "name": "stdout",
          "text": [
            "5 is in a given range\n"
          ]
        }
      ]
    },
    {
      "cell_type": "code",
      "source": [
        "#Program to check whether a given number is Armstrong or not using functions      9\n",
        "num = int(input('Enter a number: '))\n",
        "num_original =num2=num\n",
        "sum1 = 0\n",
        "cnt=0\n",
        "while(num>0):\n",
        "    cnt=cnt+1\n",
        "    num=num//10\n",
        "while num2>0:\n",
        "    rem = num2% 10\n",
        "    sum1 += rem ** cnt\n",
        "    num2//= 10\n",
        "if(num_original==sum1):\n",
        "    print('Armstrong!!')\n",
        "else:\n",
        "    print('Not Armstrong!')"
      ],
      "metadata": {
        "colab": {
          "base_uri": "https://localhost:8080/"
        },
        "id": "_s1NC4TE_FKR",
        "outputId": "cca9ddd8-97c8-49a1-9938-ec46287a3343"
      },
      "execution_count": null,
      "outputs": [
        {
          "output_type": "stream",
          "name": "stdout",
          "text": [
            "Enter a number: 153\n",
            "Armstrong!!\n"
          ]
        }
      ]
    },
    {
      "cell_type": "code",
      "source": [
        "#Program to check whether a given number is perfect or not using functions      10\n",
        "def perfect_number(n):\n",
        "    sum = 0\n",
        "    # Iterate through numbers from 1 to 'n-1' using 'x' as the iterator\n",
        "    for x in range(1, n):\n",
        "        if n % x == 0:\n",
        "            # If 'x' is a factor of 'n', add it to the 'sum'\n",
        "            sum += x\n",
        "    return sum == n\n",
        "print(perfect_number(6))"
      ],
      "metadata": {
        "id": "Ni-WhEuYACjb"
      },
      "execution_count": null,
      "outputs": []
    },
    {
      "cell_type": "code",
      "source": [
        "def perfectnum(num):\n",
        "    sum=0\n",
        "    for i in range(1,num):\n",
        "        if num% i==0:\n",
        "            sum+=i\n",
        "    return sum\n",
        "\n",
        "num=int(input())\n",
        "if num==perfectnum(num):\n",
        "    print(\"perfect number\")\n",
        "else:\n",
        "    print(\"not perfect\")"
      ],
      "metadata": {
        "colab": {
          "base_uri": "https://localhost:8080/"
        },
        "id": "c1Lf_lOQKU3s",
        "outputId": "5cde5f10-f1ae-4a49-b0f6-8ddb3c9abd95"
      },
      "execution_count": 3,
      "outputs": [
        {
          "output_type": "stream",
          "name": "stdout",
          "text": [
            "28\n",
            "perfect number\n"
          ]
        }
      ]
    }
  ],
  "metadata": {
    "colab": {
      "provenance": []
    },
    "kernelspec": {
      "display_name": "Python 3",
      "name": "python3"
    },
    "language_info": {
      "name": "python"
    }
  },
  "nbformat": 4,
  "nbformat_minor": 0
}